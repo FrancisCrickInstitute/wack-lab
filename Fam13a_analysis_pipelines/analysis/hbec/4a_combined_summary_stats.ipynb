{
 "cells": [
  {
   "cell_type": "markdown",
   "metadata": {},
   "source": [
    "# Introduction\n",
    "\n",
    "This notebook creates plots that summarise results over all experiments and all knock-out types. The available metrics to compare are:\n",
    "\n",
    "- Speed summary \n",
    "- Mask proportion summary\n",
    "\n",
    "HTML files containing the interactive plots are saved in the directory of this notebook (`analysis/hbec/`) and can be shared:\n",
    "\n",
    "- right-click the HTML file in the JupyterLab file explorer and click download\n",
    "- the HTML file will open in the current browser, after which one can save it using `ctrl+s`\n",
    "- this will save both the HTML file and a corresponding folder containing vega files\n",
    "- when sharing the HTML file, one must also share the fodler containing the vega files \n",
    "\n",
    "\n",
    "**Note that when a new experiment has been added, an experiment abbreviation needs to be added to the function `generate_mask_and_speed_summary_df` in `/src/fam13a/utils.py`. This will keep the labels in the plots shorter.**"
   ]
  },
  {
   "cell_type": "markdown",
   "metadata": {},
   "source": [
    "# Imports"
   ]
  },
  {
   "cell_type": "code",
   "execution_count": null,
   "metadata": {},
   "outputs": [],
   "source": [
    "import numpy as np\n",
    "import pandas as pd\n",
    "import scipy as sp\n",
    "import os\n",
    "import re\n",
    "import cv2\n",
    "import json\n",
    "\n",
    "from matplotlib import pyplot as plt\n",
    "from tqdm import tqdm\n",
    "from fam13a import utils\n",
    "from skimage.morphology import erosion, disk, closing\n",
    "\n",
    "import altair as alt\n",
    "from altair_saver import save"
   ]
  },
  {
   "cell_type": "markdown",
   "metadata": {},
   "source": [
    "# Constants"
   ]
  },
  {
   "cell_type": "code",
   "execution_count": null,
   "metadata": {},
   "outputs": [],
   "source": [
    "PROJ_ROOT = utils.here()\n",
    "# declare the data input directory\n",
    "HBEC_ROOT = os.path.join(PROJ_ROOT, 'data', 'processed', 'hbec')\n",
    "# print list of experiment IDs\n",
    "experiment_list = os.listdir(HBEC_ROOT); experiment_list\n",
    "# set ncpus to the number of experiments in the experiment list - make\n",
    "# sure this value is less than the number of cpus in the node\n",
    "NCPUS = 11"
   ]
  },
  {
   "cell_type": "markdown",
   "metadata": {},
   "source": [
    "# Create Summary DF"
   ]
  },
  {
   "cell_type": "code",
   "execution_count": null,
   "metadata": {},
   "outputs": [],
   "source": [
    "summary_df, zero_mask_df = utils.generate_summary_df_for_all_experiments(experiment_list, NCPUS)"
   ]
  },
  {
   "cell_type": "code",
   "execution_count": null,
   "metadata": {},
   "outputs": [],
   "source": [
    "zero_mask_df"
   ]
  },
  {
   "cell_type": "markdown",
   "metadata": {},
   "source": [
    "The `zero_mask_df` contains a list of data points that will be missing on the speed plots below. If the mask-type is 1_motion, then there will be no average speed value for the data point for both the motion mask and coordination mask. If the mask_type is 2_coordination, then there will be no average speed value for the data point for just the coordination mask"
   ]
  },
  {
   "cell_type": "markdown",
   "metadata": {},
   "source": [
    "# Visualise Mask Summary Stats (Coordination vs Segmentation)"
   ]
  },
  {
   "cell_type": "code",
   "execution_count": null,
   "metadata": {},
   "outputs": [],
   "source": [
    "mask_summary_df = summary_df.copy().drop(columns=['speed'])\n",
    "mask_summary_df = mask_summary_df.drop_duplicates()\n",
    "\n",
    "std = mask_summary_df.groupby(\n",
    "    ['group_id','mask_type']\n",
    ").mask_ratio.std().reset_index().rename(columns={'mask_ratio':'std'})\n",
    "mean = mask_summary_df.groupby(\n",
    "    ['group_id','mask_type']\n",
    ").mask_ratio.mean().reset_index().rename(columns={'mask_ratio':'mean'})\n",
    "\n",
    "mask_agg_df = pd.merge(mean, std, on = ['mask_type','group_id'], how='inner');\n",
    "\n",
    "std = mask_summary_df.groupby(\n",
    "    ['group_id','mask_type', 'batch_id']\n",
    ").mask_ratio.std().reset_index().rename(columns={'mask_ratio':'std'})\n",
    "mean = mask_summary_df.groupby(\n",
    "    ['group_id','mask_type', 'batch_id']\n",
    ").mask_ratio.mean().reset_index().rename(columns={'mask_ratio':'mean'})\n",
    "\n",
    "mask_agg_df_per_group_per_batch = pd.merge(mean, std, on = ['mask_type', 'group_id', 'batch_id'], how='inner');"
   ]
  },
  {
   "cell_type": "code",
   "execution_count": null,
   "metadata": {},
   "outputs": [],
   "source": [
    "normalised_mask_summary_df = mask_summary_df.copy()\n",
    "for exp in normalised_mask_summary_df.experiment.unique(): \n",
    "    nt_average = np.mean(\n",
    "        normalised_mask_summary_df.loc[\n",
    "            (normalised_mask_summary_df.mask_type=='1_motion') &\n",
    "            (normalised_mask_summary_df.group_id.str.contains('NT')) &\n",
    "            (normalised_mask_summary_df.experiment == exp)\n",
    "            , 'mask_ratio'\n",
    "        ])\n",
    "    normalised_mask_summary_df.loc[\n",
    "        (normalised_mask_summary_df.mask_type=='1_motion') &\n",
    "        (normalised_mask_summary_df.experiment == exp)\n",
    "        , 'mask_ratio'\n",
    "    ] = normalised_mask_summary_df.loc[\n",
    "        (normalised_mask_summary_df.mask_type=='1_motion') &\n",
    "        (normalised_mask_summary_df.experiment == exp)\n",
    "        , 'mask_ratio'\n",
    "    ]/nt_average"
   ]
  },
  {
   "cell_type": "code",
   "execution_count": null,
   "metadata": {},
   "outputs": [],
   "source": [
    "def produce_porportion_summary_plot(df, x_axis_label):\n",
    "    base = alt.Chart(\n",
    "        df\n",
    "    ).properties(\n",
    "        width=600,\n",
    "        height=250\n",
    "    )\n",
    "    colorPalette = 'dark2'\n",
    "\n",
    "    selection_mean = alt.selection_multi(fields=['experiment'], bind='legend')\n",
    "\n",
    "    points = base.mark_square(filled=False, color='black',size=300).encode(\n",
    "        x=alt.X('mask_ratio:Q', aggregate='mean', axis=alt.Axis(title=x_axis_label)),\n",
    "        y=alt.Y('group_id:N', axis=alt.Axis(title='experiment'), sort=knockout_order),\n",
    "        color=alt.Color('experiment', scale=alt.Scale(scheme=colorPalette), sort=exp_order),\n",
    "        opacity=alt.condition(selection_mean, alt.value(1), alt.value(0.2))\n",
    "    ).add_selection(\n",
    "        selection_mean\n",
    "    ).interactive()\n",
    "\n",
    "    selection = alt.selection_multi(fields=['experiment'], bind='legend')\n",
    "\n",
    "    all_points = base.mark_square(size=25, filled=True).encode(\n",
    "        y=alt.Y('group_id:N', axis=alt.Axis(title='experiment'), sort=knockout_order),\n",
    "        x=alt.X('mask_ratio:Q'),\n",
    "        color=alt.Color('experiment', scale=alt.Scale(scheme=colorPalette), sort=exp_order),\n",
    "        tooltip='batch_id:N',\n",
    "        opacity=alt.condition(selection, alt.value(1), alt.value(0.2))\n",
    "    ).add_selection(\n",
    "        selection\n",
    "    ).interactive()\n",
    "    \n",
    "    mean_error_bars = base.mark_errorbar(extent='stdev').encode(\n",
    "      x=alt.X('mask_ratio:Q'),\n",
    "      y=alt.Y('group_id:N', sort=knockout_order),\n",
    "        color=alt.Color('experiment', scale=alt.Scale(scheme=colorPalette), sort=exp_order),\n",
    "        opacity=alt.condition(selection_mean, alt.value(1), alt.value(0.2))\n",
    "    ).add_selection(\n",
    "        selection_mean\n",
    "    ).interactive()\n",
    "\n",
    "    visualise_chart = (points + all_points + mean_error_bars)\n",
    "\n",
    "    return visualise_chart"
   ]
  },
  {
   "cell_type": "code",
   "execution_count": null,
   "metadata": {},
   "outputs": [],
   "source": [
    "a = produce_porportion_summary_plot(mask_summary_df.loc[mask_summary_df.mask_type == '1_motion'], 'motion mask')\n",
    "b = produce_porportion_summary_plot(normalised_mask_summary_df.loc[normalised_mask_summary_df.mask_type == '1_motion'], 'motion mask (NT normalised)')\n",
    "c = produce_porportion_summary_plot(mask_summary_df.loc[mask_summary_df.mask_type == '2_coordination'], 'coordinated mask')"
   ]
  },
  {
   "cell_type": "code",
   "execution_count": null,
   "metadata": {},
   "outputs": [],
   "source": [
    "visualise_chart = ((a | b) & c).configure_axis(\n",
    "    labelFontSize=18,\n",
    "    titleFontSize=18\n",
    ").configure_legend(\n",
    "    labelFontSize = 24\n",
    ").configure_header(\n",
    "    labelFontSize=24\n",
    ")\n",
    "\n",
    "visualise_chart.save('mask-proportion-summary-across-all-experiments.html')\n",
    "visualise_chart"
   ]
  },
  {
   "cell_type": "code",
   "execution_count": null,
   "metadata": {},
   "outputs": [],
   "source": [
    "vc = ((a | b)).configure_axis(\n",
    "    labelFontSize=18,\n",
    "    titleFontSize=18\n",
    ").configure_legend(\n",
    "    labelFontSize = 24\n",
    ").configure_header(\n",
    "    labelFontSize=24\n",
    "); vc\n",
    "# save csv files\n",
    "mask_summary_df.to_csv('mask-proportion-summary-across-all-experiments.csv') \n",
    "normalised_mask_summary_df.to_csv('mask-proportion-summary-across-all-experiments-normalised.csv') \n",
    "vc = ((a | b)).configure_axis(\n",
    "    labelFontSize=18,\n",
    "    titleFontSize=18\n",
    ").configure_legend(\n",
    "    labelFontSize = 24\n",
    ").configure_header(\n",
    "    labelFontSize=24\n",
    "); vc"
   ]
  }
 ],
 "metadata": {
  "kernelspec": {
   "display_name": "Python 3",
   "language": "python",
   "name": "python3"
  },
  "language_info": {
   "codemirror_mode": {
    "name": "ipython",
    "version": 3
   },
   "file_extension": ".py",
   "mimetype": "text/x-python",
   "name": "python",
   "nbconvert_exporter": "python",
   "pygments_lexer": "ipython3",
   "version": "3.7.6"
  }
 },
 "nbformat": 4,
 "nbformat_minor": 4
}
