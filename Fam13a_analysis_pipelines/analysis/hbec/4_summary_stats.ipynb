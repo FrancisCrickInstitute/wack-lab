{
 "cells": [
  {
   "cell_type": "markdown",
   "metadata": {},
   "source": [
    "# Introduction\n",
    "\n",
    "This notebook combines the results from moving area segmentation, registration analysis and spatial auto-correlation analysis to visualise summary stats per experiment:\n",
    "\n",
    "- Visualize Speed Summary Stats: this plots the average speed in each well for each type of knockout in both the moving regions and coordinated regions.\n",
    "- Distribution of speeds: the distribution of speeds is shown per well and per knockout.\n",
    "- Visualise Mask Summary Stats (Coordination vs Segmentation): the proportion of moving region is compared to proportion of coordinated region per well per knockout type.\n",
    "\n",
    "The calculations required for the above visualisations are carried out in [1_segment_moving_regions](hbec/1_segment_moving_regions.ipynb), [3_registration](hbec/3_registration.ipynb) and [3b_spatial_auto_correlation](hbec/3b_spatial_auto_correlation.ipynb)"
   ]
  },
  {
   "cell_type": "markdown",
   "metadata": {},
   "source": [
    "# Imports"
   ]
  },
  {
   "cell_type": "code",
   "execution_count": null,
   "metadata": {},
   "outputs": [],
   "source": [
    "import numpy as np\n",
    "import pandas as pd\n",
    "import scipy as sp\n",
    "import os\n",
    "import re\n",
    "import cv2\n",
    "\n",
    "from matplotlib import pyplot as plt\n",
    "from tqdm import tqdm\n",
    "from fam13a import utils\n",
    "\n",
    "import altair as alt\n",
    "from altair import datum"
   ]
  },
  {
   "cell_type": "markdown",
   "metadata": {},
   "source": [
    "# Constants"
   ]
  },
  {
   "cell_type": "code",
   "execution_count": null,
   "metadata": {},
   "outputs": [],
   "source": [
    "PROJ_ROOT = utils.here()\n",
    "# declare the data input directory\n",
    "HBEC_ROOT = os.path.join(PROJ_ROOT, 'data', 'processed', 'hbec')\n",
    "# print list of experiment IDs\n",
    "print(os.listdir(HBEC_ROOT))"
   ]
  },
  {
   "cell_type": "code",
   "execution_count": null,
   "metadata": {},
   "outputs": [],
   "source": [
    "# choose experiment data to load\n",
    "EXP_ID = 'N67030-66_6_perc'"
   ]
  },
  {
   "cell_type": "markdown",
   "metadata": {},
   "source": [
    "# Process"
   ]
  },
  {
   "cell_type": "code",
   "execution_count": null,
   "metadata": {},
   "outputs": [],
   "source": [
    "summary_df, zero_mask_df = utils.generate_mask_and_speed_summary_df(EXP_ID)"
   ]
  },
  {
   "cell_type": "code",
   "execution_count": null,
   "metadata": {},
   "outputs": [],
   "source": [
    "zero_mask_df"
   ]
  },
  {
   "cell_type": "markdown",
   "metadata": {},
   "source": [
    "The `zero_mask_df` contains a list of data points that will be missing on the speed plots below. If the mask-type is 1_motion, then there will be no average speed value for the data point for both the motion mask and coordination mask. If the mask_type is 2_coordination, then there will be no average speed value for the data point for just the coordination mask"
   ]
  },
  {
   "cell_type": "markdown",
   "metadata": {},
   "source": [
    "# Visualise Mask Summary Stats (Coordination vs Segmentation)"
   ]
  },
  {
   "cell_type": "code",
   "execution_count": null,
   "metadata": {},
   "outputs": [],
   "source": [
    "mask_summary_df = summary_df.copy().drop(columns=['speed'])\n",
    "mask_summary_df = mask_summary_df.drop_duplicates()\n",
    "\n",
    "std = mask_summary_df.groupby(\n",
    "    ['group_id','mask_type']\n",
    ").mask_ratio.std().reset_index().rename(columns={'mask_ratio':'std'})\n",
    "mean = mask_summary_df.groupby(\n",
    "    ['group_id','mask_type']\n",
    ").mask_ratio.mean().reset_index().rename(columns={'mask_ratio':'mean'})\n",
    "\n",
    "mask_agg_df = pd.merge(mean, std, on = ['mask_type','group_id'], how='inner');\n",
    "\n",
    "std = mask_summary_df.groupby(\n",
    "    ['group_id','mask_type', 'batch_id']\n",
    ").mask_ratio.std().reset_index().rename(columns={'mask_ratio':'std'})\n",
    "mean = mask_summary_df.groupby(\n",
    "    ['group_id','mask_type', 'batch_id']\n",
    ").mask_ratio.mean().reset_index().rename(columns={'mask_ratio':'mean'})\n",
    "\n",
    "mask_agg_df_per_group_per_batch = pd.merge(mean, std, on = ['mask_type', 'group_id', 'batch_id'], how='inner');"
   ]
  },
  {
   "cell_type": "code",
   "execution_count": null,
   "metadata": {},
   "outputs": [],
   "source": [
    "# for the motion mask, normalise proportion to the proportion value of NT\n",
    "mask_t = '1_motion'\n",
    "nt_average = np.mean(\n",
    "    mask_summary_df.loc[\n",
    "        (mask_summary_df.mask_type==mask_t) &\n",
    "        (mask_summary_df.group_id.str.contains('NT')\n",
    "        ), 'mask_ratio'\n",
    "    ])\n",
    "mask_summary_df.loc[\n",
    "    mask_summary_df.mask_type==mask_t, 'mask_ratio'\n",
    "] = mask_summary_df.loc[\n",
    "    mask_summary_df.mask_type==mask_t, 'mask_ratio'\n",
    "]/nt_average"
   ]
  },
  {
   "cell_type": "code",
   "execution_count": null,
   "metadata": {},
   "outputs": [],
   "source": [
    "base = alt.Chart(\n",
    "    mask_summary_df\n",
    ").properties(\n",
    "    width=600,\n",
    "    height=200\n",
    ")\n",
    "\n",
    "error_bars = base.mark_errorbar(extent='stdev').encode(\n",
    "  x=alt.X('mask_ratio:Q', scale=alt.Scale(zero=False), axis=alt.Axis(title='masked proportion')),\n",
    "  y=alt.Y('group_id:N')\n",
    ")\n",
    "\n",
    "points = base.mark_point(filled=False, color='black', size=50).encode(\n",
    "  x=alt.X('mask_ratio:Q', aggregate='mean', axis=alt.Axis(title='masked proportion')),\n",
    "  y=alt.Y('group_id:N'),\n",
    ")\n",
    "\n",
    "all_points = base.mark_square(size=50).encode(\n",
    "    y=alt.X('group_id:N', axis=alt.Axis(title='experiment')),\n",
    "    x=alt.Y('mask_ratio:Q',),\n",
    "    color='batch_id'\n",
    ")\n",
    "\n",
    "(error_bars + points + all_points).facet(\n",
    "    'mask_type:N',\n",
    "    columns = 1\n",
    ").configure_axis(\n",
    "    labelFontSize=16,\n",
    "    titleFontSize=16\n",
    ").configure_legend(\n",
    "    labelFontSize = 16\n",
    ").configure_header(\n",
    "    labelFontSize=20\n",
    ").resolve_scale(\n",
    "    x='independent'\n",
    ")"
   ]
  }
 ],
 "metadata": {
  "kernelspec": {
   "display_name": "Python 3",
   "language": "python",
   "name": "python3"
  },
  "language_info": {
   "codemirror_mode": {
    "name": "ipython",
    "version": 3
   },
   "file_extension": ".py",
   "mimetype": "text/x-python",
   "name": "python",
   "nbconvert_exporter": "python",
   "pygments_lexer": "ipython3",
   "version": "3.7.6"
  }
 },
 "nbformat": 4,
 "nbformat_minor": 4
}
