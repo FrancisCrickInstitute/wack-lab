{
 "cells": [
  {
   "cell_type": "markdown",
   "metadata": {},
   "source": [
    "# Introduction\n",
    "\n",
    "This notebook visualizes the results of the spatial auto-correlation analysis carried out in this [notebook: 3b_spatial_auto_correlation](3b_spatial_auto_correlation.ipynb).\n",
    "\n",
    "NOTE: The only purpose of this notebook is to make it easy to visually inspect the outputs from the previous notebook, it does not write any files to disk"
   ]
  },
  {
   "cell_type": "markdown",
   "metadata": {},
   "source": [
    "# Imports"
   ]
  },
  {
   "cell_type": "code",
   "execution_count": null,
   "metadata": {},
   "outputs": [],
   "source": [
    "import numpy as np\n",
    "from skimage import morphology as sk_morph\n",
    "import cv2\n",
    "from skimage.morphology import erosion, disk, closing\n",
    "import os\n",
    "import json\n",
    "\n",
    "from matplotlib import pyplot as plt\n",
    "font = {'size'   : 16}\n",
    "plt.rc('font', **font)\n",
    "import matplotlib.patches as patches\n",
    "\n",
    "from fam13a import utils, register"
   ]
  },
  {
   "cell_type": "markdown",
   "metadata": {},
   "source": [
    "# Constants"
   ]
  },
  {
   "cell_type": "code",
   "execution_count": null,
   "metadata": {},
   "outputs": [],
   "source": [
    "PROJ_ROOT = utils.here()\n",
    "# declare the data input directory\n",
    "HBEC_ROOT = os.path.join(PROJ_ROOT, 'data', 'processed', 'hbec')\n",
    "# print list of experiment IDs\n",
    "print(os.listdir(HBEC_ROOT))"
   ]
  },
  {
   "cell_type": "code",
   "execution_count": null,
   "metadata": {},
   "outputs": [],
   "source": [
    "# choose experiment data to load\n",
    "EXP_ID = 'ELN19575-4'\n",
    "\n",
    "# declare the various output directories\n",
    "PROCESSED_ROOT = os.path.join(HBEC_ROOT, EXP_ID)\n",
    "MAX_FRAME_ROOT = os.path.join(PROCESSED_ROOT, 'max_frame')\n",
    "REGISTER_ROOT = os.path.join(PROCESSED_ROOT, 'register')\n",
    "SAC_ROOT = os.path.join(PROCESSED_ROOT, 'spatial_auto_correlation', 'neighbor_size_9_geary')\n",
    "\n",
    "# find all relevant data files in the data directory \n",
    "file_ids = sorted([_d for _d in os.listdir(SAC_ROOT) if os.path.isdir(os.path.join(SAC_ROOT, _d))])\n",
    "# print available data file IDs\n",
    "print(file_ids)"
   ]
  },
  {
   "cell_type": "markdown",
   "metadata": {},
   "source": [
    "# Load Data"
   ]
  },
  {
   "cell_type": "code",
   "execution_count": null,
   "metadata": {},
   "outputs": [],
   "source": [
    "# choose data file to load\n",
    "_file_id = 'NT_4_13_MMStack_Pos0'\n",
    "REGISTER_FILE_ROOT = os.path.join(REGISTER_ROOT, _file_id)\n",
    "SAC_FILE_ROOT = os.path.join(SAC_ROOT, _file_id)\n",
    "\n",
    "# load each of the associated registration interim/processed files\n",
    "shifts = np.load(os.path.join(REGISTER_FILE_ROOT, 'shifts.npy'))\n",
    "max_frame = np.load(os.path.join(MAX_FRAME_ROOT, f'{_file_id}.npy'))\n",
    "sub_max_frame = np.load(os.path.join(REGISTER_FILE_ROOT, 'max_frame.npy'))\n",
    "sub_movement_mask = np.load(os.path.join(REGISTER_FILE_ROOT, 'mask.npy'))\n",
    "roi = np.load(os.path.join(REGISTER_FILE_ROOT, 'roi.npy'))\n",
    "with open(os.path.join(REGISTER_FILE_ROOT, 'params.json'), 'r') as params_file:\n",
    "    register_params = json.load(params_file)\n",
    "    \n",
    "# load each of the associated spatial autocorrelation processed files\n",
    "# get matrices from geary objects\n",
    "gearys_p_speed = np.load(os.path.join(SAC_FILE_ROOT, 'p_values_speed.npy'))\n",
    "gearys_i_speed = np.load(os.path.join(SAC_FILE_ROOT, 'i_values_speed.npy'))\n",
    "\n",
    "gearys_p_vx = np.load(os.path.join(SAC_FILE_ROOT, 'p_values_vx.npy'))\n",
    "gearys_i_vx = np.load(os.path.join(SAC_FILE_ROOT, 'i_values_vx.npy'))\n",
    "gearys_p_vy = np.load(os.path.join(SAC_FILE_ROOT, 'p_values_vy.npy'))\n",
    "gearys_i_vy = np.load(os.path.join(SAC_FILE_ROOT, 'i_values_vy.npy'))"
   ]
  },
  {
   "cell_type": "markdown",
   "metadata": {},
   "source": [
    "# Process\n",
    "\n",
    "we explicitly set the min and max values, of the colour map, for the vector magnitudes. This is done so the vector field plots of different videos can be compared visually, otherwise matplotlib automatically uses the min and max values present in the image to set the range of the colour map"
   ]
  },
  {
   "cell_type": "code",
   "execution_count": null,
   "metadata": {},
   "outputs": [],
   "source": [
    "min_mag, max_mag = register.calculate_min_max_speed(register_params['ptrn_size'], register_params['region_size'])"
   ]
  },
  {
   "cell_type": "code",
   "execution_count": null,
   "metadata": {},
   "outputs": [],
   "source": [
    "# calculate average velocity field from shifts array\n",
    "velocity_fields = register.calculate_mean_velocity_field(shifts)\n",
    "norm_shifts = velocity_fields['normalised_velocity']\n",
    "mags = velocity_fields['speed']\n",
    "\n",
    "# for the p-values, we are only interested in those regions where p<threshold\n",
    "# so here we can convert the p-value matrices to boolean p-value masks\n",
    "p_value_threshold = 0.05\n",
    "gearys_p_speed_mask = gearys_p_speed < p_value_threshold;\n",
    "gearys_p_vx_mask = gearys_p_vx < p_value_threshold;\n",
    "gearys_p_vy_mask = gearys_p_vy < p_value_threshold;\n",
    "\n",
    "# for the i-values, we can look at areas of spatial clustering\n",
    "# i value < 2 indicates that a feature has neighboring features with similarly high or low attribute values; this feature is part of a cluster.\n",
    "# i value > 2 indicates that a feature has neighboring features with dissimilar values; this feature is an outlier.\n",
    "# In either instance, the p-value for the feature must be small enough for the cluster or outlier to be considered statistically significant. \n",
    "gearys_i_speed_mask = gearys_i_speed < 2\n",
    "gearys_i_vx_mask = gearys_i_vx < 2\n",
    "gearys_i_vy_mask = gearys_i_vy < 2\n",
    "\n",
    "# now we can combine a low p-value with positive i-value to get a mask for statistically significant correlated motion\n",
    "geary_speed_mask = gearys_i_speed_mask & gearys_p_speed_mask\n",
    "geary_vx_mask = gearys_i_vx_mask & gearys_p_vx_mask\n",
    "geary_vy_mask = gearys_i_vy_mask & gearys_p_vy_mask\n",
    "\n",
    "min_mags_mask = (mags > np.average(mags[~sub_movement_mask & roi]))\n",
    "\n",
    "# apply roi to mags, norm_shifts, p values and i values\n",
    "for i in [\n",
    "    mags, norm_shifts[:,:,0], norm_shifts[:,:,1], \n",
    "    gearys_p_speed, gearys_i_speed, gearys_p_vx, gearys_i_vx,\n",
    "    gearys_p_vy, gearys_i_vy, gearys_i_vy_mask, gearys_i_vx_mask, \n",
    "    gearys_i_speed_mask, geary_speed_mask, geary_vx_mask, geary_vy_mask,\n",
    "    gearys_p_speed_mask,gearys_p_vx_mask,gearys_p_vy_mask\n",
    "]:\n",
    "    i[~roi] = None\n",
    "coordination_mask = (geary_vx_mask & geary_vy_mask) & sub_movement_mask & min_mags_mask\n",
    "dilated_coordination_mask = closing(coordination_mask.astype(np.int8), disk(1)).astype(bool)\n",
    "closing_coordination_mask = sk_morph.closing(coordination_mask.astype(np.int8), disk(1)).astype(bool)\n",
    "\n",
    "# apply erosion to sub_movement_mask\n",
    "erosion_mask = cv2.erode(sub_movement_mask.astype(np.uint8), disk(3), iterations = 2).astype(bool)\n"
   ]
  },
  {
   "cell_type": "code",
   "execution_count": null,
   "metadata": {},
   "outputs": [],
   "source": [
    "plt.figure(figsize=(20, 15))\n",
    "\n",
    "plt.subplot(341); utils.imshow(sub_movement_mask); plt.axis('off'); plt.title(\"motion \")\n",
    "plt.subplot(342); utils.imshow(mags); plt.axis('off'); plt.title(\"|v|\")\n",
    "plt.subplot(343); utils.imshow(norm_shifts[...,1]); plt.axis('off'); plt.title(\"vx\")\n",
    "plt.subplot(344); utils.imshow(norm_shifts[...,0]); plt.axis('off'); plt.title(\"vy\")\n",
    "\n",
    "plt.subplot(345); utils.imshow(coordination_mask); plt.axis('off'); plt.title(\"basic coordination\")\n",
    "plt.subplot(346); utils.imshow(geary_speed_mask); plt.axis('off'); plt.title(\"geary |v|\")\n",
    "plt.subplot(347); utils.imshow(geary_vx_mask); plt.axis('off'); plt.title(\"geary vx\")\n",
    "plt.subplot(348); utils.imshow(geary_vy_mask); plt.axis('off'); plt.title(\"geary vy\")\n",
    "\n",
    "plt.subplot(3,4,9); utils.imshow(closing_coordination_mask); plt.axis('off'); plt.title(\"closing coordination\")\n",
    "plt.subplot(3,4,10); utils.imshow(roi); plt.axis('off'); plt.title(\"region of interest\")\n",
    "plt.subplot(3,4,12); utils.imshow(erosion_mask); plt.axis('off'); plt.title(\"eroded coordination\")"
   ]
  },
  {
   "cell_type": "markdown",
   "metadata": {},
   "source": [
    "# Visualise"
   ]
  },
  {
   "cell_type": "code",
   "execution_count": null,
   "metadata": {},
   "outputs": [],
   "source": [
    "slices_1 = (slice(225,275), slice(100,150))\n",
    "\n",
    "# plot full view\n",
    "plt.figure(figsize=(30, 30))\n",
    "\n",
    "plt.subplot(121)\n",
    "plt.title('Speed')\n",
    "plt.imshow(sub_movement_mask)\n",
    "plt.quiver(norm_shifts[...,1], norm_shifts[...,0], mags, scale=1, scale_units='xy', angles='xy',\n",
    "          headwidth=4, headlength=4, headaxislength=3, cmap='hot')\n",
    "plt.clim(min_mag, max_mag)\n",
    "ax = plt.gca()\n",
    "rect_1 = patches.Rectangle((slices_1[1].start,slices_1[0].start),\n",
    "                 slices_1[1].stop - slices_1[1].start,\n",
    "                 slices_1[0].stop - slices_1[0].start,\n",
    "                 linewidth=4,\n",
    "                 edgecolor='cyan',\n",
    "                 fill = False)\n",
    "ax.add_patch(rect_1)\n",
    "\n",
    "plt.subplot(122)\n",
    "plt.title('dilated_coordination_mask')\n",
    "plt.imshow(dilated_coordination_mask)\n",
    "plt.colorbar(fraction=0.01)\n",
    "plt.quiver(norm_shifts[...,1], norm_shifts[...,0], mags, scale=1, scale_units='xy', angles='xy',\n",
    "          headwidth=4, headlength=4, headaxislength=3, cmap='hot')\n",
    "plt.clim(min_mag, max_mag)\n",
    "ax = plt.gca()\n",
    "rect_1 = patches.Rectangle((slices_1[1].start,slices_1[0].start),\n",
    "                 slices_1[1].stop - slices_1[1].start,\n",
    "                 slices_1[0].stop - slices_1[0].start,\n",
    "                 linewidth=4,\n",
    "                 edgecolor='cyan',\n",
    "                 fill = False)\n",
    "ax.add_patch(rect_1)\n",
    "\n",
    "plt.show()"
   ]
  },
  {
   "cell_type": "code",
   "execution_count": null,
   "metadata": {},
   "outputs": [],
   "source": [
    "slices=slices_1"
   ]
  },
  {
   "cell_type": "code",
   "execution_count": null,
   "metadata": {},
   "outputs": [],
   "source": [
    "# plot a zoomed in view speed vs mi speed\n",
    "plt.figure(figsize=(30, 30))\n",
    "\n",
    "plt.subplot(121)\n",
    "plt.title('movement_mask')\n",
    "plt.imshow(sub_movement_mask[slices])\n",
    "plt.quiver(norm_shifts[slices][...,1], norm_shifts[slices][...,0], mags[slices], scale=1, scale_units='xy', angles='xy',\n",
    "          headwidth=4, headlength=4, headaxislength=3, cmap='hot')\n",
    "plt.clim(min_mag, max_mag)\n",
    "\n",
    "plt.subplot(122)\n",
    "plt.title('coordination_mask')\n",
    "plt.imshow(closing_coordination_mask[slices])\n",
    "plt.quiver(norm_shifts[slices][...,1], norm_shifts[slices][...,0], mags[slices], scale=1, scale_units='xy', angles='xy',\n",
    "          headwidth=4, headlength=4, headaxislength=3, cmap='hot')\n",
    "plt.clim(min_mag, max_mag)"
   ]
  }
 ],
 "metadata": {
  "kernelspec": {
   "display_name": "Environment (conda_fam13a-dev)",
   "language": "python",
   "name": "conda_fam13a-dev"
  },
  "language_info": {
   "codemirror_mode": {
    "name": "ipython",
    "version": 3
   },
   "file_extension": ".py",
   "mimetype": "text/x-python",
   "name": "python",
   "nbconvert_exporter": "python",
   "pygments_lexer": "ipython3",
   "version": "3.7.6"
  }
 },
 "nbformat": 4,
 "nbformat_minor": 2
}
