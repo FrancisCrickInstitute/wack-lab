{
 "cells": [
  {
   "cell_type": "markdown",
   "metadata": {},
   "source": [
    "# Introduction\n",
    "\n",
    "This notebook visualizes the results of the registration analysis carried out in this [notebook: 3_registration](3_registration.ipynb)\n",
    "\n",
    "NOTE: The only purpose of this notebook is to make it easy to visually inspect the outputs from the previous notebook, it does not write any files to disk"
   ]
  },
  {
   "cell_type": "markdown",
   "metadata": {},
   "source": [
    "# Imports"
   ]
  },
  {
   "cell_type": "code",
   "execution_count": null,
   "metadata": {},
   "outputs": [],
   "source": [
    "import numpy as np\n",
    "import scipy as sp\n",
    "from scipy import signal\n",
    "import skimage\n",
    "from skimage import morphology as sk_morph\n",
    "from skimage import exposure\n",
    "import os\n",
    "import json\n",
    "\n",
    "from IPython import display\n",
    "from matplotlib import pyplot as plt\n",
    "import matplotlib.patches as patches\n",
    "from mpl_toolkits.axes_grid1 import ImageGrid\n",
    "from tqdm import tqdm\n",
    "\n",
    "from fam13a import utils, image, register\n",
    "from multiprocessing import Pool\n",
    "from functools import partial"
   ]
  },
  {
   "cell_type": "markdown",
   "metadata": {},
   "source": [
    "# Constants"
   ]
  },
  {
   "cell_type": "code",
   "execution_count": null,
   "metadata": {},
   "outputs": [],
   "source": [
    "PROJ_ROOT = utils.here()\n",
    "# declare the data input directory\n",
    "HBEC_ROOT = os.path.join(PROJ_ROOT, 'data', 'processed', 'hbec')\n",
    "# print list of experiment IDs\n",
    "print(os.listdir(HBEC_ROOT))"
   ]
  },
  {
   "cell_type": "code",
   "execution_count": null,
   "metadata": {},
   "outputs": [],
   "source": [
    "# choose experiment data to load\n",
    "EXP_ID = 'N67030-59_8_perc'\n",
    "\n",
    "# declare the various output directories\n",
    "PROCESSED_ROOT = os.path.join(HBEC_ROOT, EXP_ID)\n",
    "MAX_FRAME_ROOT = os.path.join(PROCESSED_ROOT, 'max_frame')\n",
    "REGISTER_ROOT = os.path.join(PROCESSED_ROOT, 'register')\n",
    "\n",
    "# find all relevant data files in the data directory \n",
    "file_ids = sorted([_d for _d in os.listdir(REGISTER_ROOT) if os.path.isdir(os.path.join(REGISTER_ROOT, _d))])\n",
    "# print available data file IDs\n",
    "print(file_ids)"
   ]
  },
  {
   "cell_type": "markdown",
   "metadata": {},
   "source": [
    "# Load data"
   ]
  },
  {
   "cell_type": "code",
   "execution_count": null,
   "metadata": {},
   "outputs": [],
   "source": [
    "# choose data file to load\n",
    "_file_id = 'NT_6_1_MMStack_Pos0'\n",
    "FILE_ROOT = os.path.join(REGISTER_ROOT, _file_id)\n",
    "\n",
    "# load each of the associated interim/processed files\n",
    "shifts = np.load(os.path.join(FILE_ROOT, 'shifts.npy'))\n",
    "max_frame = np.load(os.path.join(MAX_FRAME_ROOT, f'{_file_id}.npy'))\n",
    "sub_max_frame = np.load(os.path.join(FILE_ROOT, 'max_frame.npy'))\n",
    "sub_movement_mask = np.load(os.path.join(FILE_ROOT, 'mask.npy'))\n",
    "validation_angles = np.load(os.path.join(FILE_ROOT, 'validation_angles.npy'))\n",
    "with open(os.path.join(FILE_ROOT, 'params.json'), 'r') as params_file:\n",
    "    params = json.load(params_file)"
   ]
  },
  {
   "cell_type": "markdown",
   "metadata": {},
   "source": [
    "# Process\n",
    "\n",
    "we explicitly set the min and max values, of the colour map, for the vector magnitudes. This is done so the vector field plots of different videos can be compared visually, otherwise matplotlib automatically uses the min and max values present in the image to set the range of the colour map"
   ]
  },
  {
   "cell_type": "code",
   "execution_count": null,
   "metadata": {},
   "outputs": [],
   "source": [
    "min_mag, max_mag = register.calculate_min_max_speed(params['ptrn_size'], params['region_size'])"
   ]
  },
  {
   "cell_type": "code",
   "execution_count": null,
   "metadata": {},
   "outputs": [],
   "source": [
    "# calculate average velocity field from shifts array\n",
    "velocity_fields = register.calculate_mean_velocity_field(shifts)\n",
    "norm_shifts = velocity_fields['normalised_velocity']\n",
    "mags = velocity_fields['speed']"
   ]
  },
  {
   "cell_type": "code",
   "execution_count": null,
   "metadata": {},
   "outputs": [],
   "source": [
    "# create validation angle mask with threshold of 30 degrees\n",
    "validation_angle_mask = (validation_angles < 30.)"
   ]
  },
  {
   "cell_type": "code",
   "execution_count": null,
   "metadata": {},
   "outputs": [],
   "source": [
    "# mask out vectors not in the moving region segmentation mask \n",
    "masked_norm_shifts = norm_shifts.copy()\n",
    "masked_norm_shifts[~sub_movement_mask, :] = 0\n",
    "masked_norm_shifts[~validation_angle_mask, :] = 0\n",
    "masked_mags = mags.copy()\n",
    "masked_mags[~sub_movement_mask] = None\n",
    "masked_mags[~validation_angle_mask] = None"
   ]
  },
  {
   "cell_type": "markdown",
   "metadata": {},
   "source": [
    "# Visualize"
   ]
  },
  {
   "cell_type": "code",
   "execution_count": null,
   "metadata": {},
   "outputs": [],
   "source": [
    "# plot the max projection view\n",
    "plt.figure(figsize=(10, 10))\n",
    "plt.imshow(max_frame)"
   ]
  },
  {
   "cell_type": "code",
   "execution_count": null,
   "metadata": {},
   "outputs": [],
   "source": [
    "# define the position of box to be zoomed in on in the next cell\n",
    "slice_ranges = [50, 100, 150, 200]\n",
    "slices_1 = (slice(slice_ranges[0],slice_ranges[1]), slice(slice_ranges[2],slice_ranges[3]))\n",
    "\n",
    "# plot full view\n",
    "plt.figure(figsize=(10, 10))\n",
    "plt.imshow(sub_max_frame)\n",
    "plt.quiver(masked_norm_shifts[...,1], masked_norm_shifts[...,0], masked_mags[...], scale=1, scale_units='xy', angles='xy',\n",
    "          headwidth=4, headlength=4, headaxislength=3, cmap='hot')\n",
    "plt.clim(min_mag, max_mag)\n",
    "ax = plt.gca()\n",
    "rect_1 = patches.Rectangle((slices_1[1].start,slices_1[0].start),\n",
    "                 slices_1[1].stop - slices_1[1].start,\n",
    "                 slices_1[0].stop - slices_1[0].start,\n",
    "                 linewidth=4,\n",
    "                 edgecolor='cyan',\n",
    "                 fill = False)\n",
    "ax.add_patch(rect_1)"
   ]
  },
  {
   "cell_type": "code",
   "execution_count": null,
   "metadata": {},
   "outputs": [],
   "source": [
    "ptrn_size = params[\"ptrn_size\"]\n",
    "ptrn_size[0]\n",
    "\n",
    "up_slice_ranges = [sr*ptrn_size[0]+(ptrn_size[0]-1) for sr in slice_ranges]\n",
    "slices = (slice(*slice_ranges[:2]), slice(*slice_ranges[2:]))\n",
    "up_slices = (slice(*up_slice_ranges[:2]), slice(*up_slice_ranges[2:]))\n",
    "\n",
    "tile_mask = np.zeros(ptrn_size).astype(bool)\n",
    "tile_mask[2,2] = True\n",
    "tiled_mask = np.tile(tile_mask, (slice_ranges[1] - slice_ranges[0], slice_ranges[3] - slice_ranges[2]))\n",
    "\n",
    "tiled_vecs = masked_norm_shifts[slices].repeat(ptrn_size[0], axis=0).repeat(ptrn_size[0], axis=1)\n",
    "tiled_vecs[~tiled_mask] = None\n",
    "\n",
    "tiled_mags = masked_mags[slices].repeat(ptrn_size[0], axis=0).repeat(ptrn_size[0], axis=1)\n",
    "tiled_mags[~tiled_mask] = None"
   ]
  },
  {
   "cell_type": "code",
   "execution_count": null,
   "metadata": {},
   "outputs": [],
   "source": [
    "plt.figure(figsize=(10, 10))\n",
    "plt.imshow(max_frame[up_slices])\n",
    "plt.quiver(tiled_vecs[...,1], tiled_vecs[...,0], tiled_mags, scale=0.2, scale_units='xy', angles='xy',\n",
    "          headwidth=2, headlength=2, headaxislength=2.5, cmap='hot')\n",
    "plt.clim(min_mag, max_mag)"
   ]
  }
 ],
 "metadata": {
  "kernelspec": {
   "display_name": "Environment (conda_fam13a-dev)",
   "language": "python",
   "name": "conda_fam13a-dev"
  },
  "language_info": {
   "codemirror_mode": {
    "name": "ipython",
    "version": 3
   },
   "file_extension": ".py",
   "mimetype": "text/x-python",
   "name": "python",
   "nbconvert_exporter": "python",
   "pygments_lexer": "ipython3",
   "version": "3.7.6"
  }
 },
 "nbformat": 4,
 "nbformat_minor": 2
}
