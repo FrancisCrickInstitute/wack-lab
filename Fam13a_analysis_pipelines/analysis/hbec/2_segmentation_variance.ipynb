{
 "cells": [
  {
   "cell_type": "markdown",
   "metadata": {},
   "source": [
    "# Introduction\n",
    "\n",
    "This notebook calculates the proportion of moving area in each video and some simple summarty statistics for each group of videos in a single experiment. It also generates visualizations of the summary statistics. The segmentation of moving area is carried out in this [notebook: 1_segment_moving_regions](1_segment_moving_regions.ipynb) and its results are visualised here.\n",
    "\n",
    "NOTE: this notebook does not write any files to disk"
   ]
  },
  {
   "cell_type": "markdown",
   "metadata": {},
   "source": [
    "# Imports"
   ]
  },
  {
   "cell_type": "code",
   "execution_count": null,
   "metadata": {},
   "outputs": [],
   "source": [
    "%load_ext autoreload\n",
    "%autoreload 2\n",
    "\n",
    "import numpy as np\n",
    "import re\n",
    "import os\n",
    "from matplotlib import pyplot as plt\n",
    "from mpl_toolkits.axes_grid1 import ImageGrid\n",
    "from tqdm import tqdm\n",
    "import skimage\n",
    "import altair as alt\n",
    "import pandas as pd\n",
    "\n",
    "from fam13a import utils"
   ]
  },
  {
   "cell_type": "markdown",
   "metadata": {},
   "source": [
    "# Declare constants"
   ]
  },
  {
   "cell_type": "code",
   "execution_count": null,
   "metadata": {},
   "outputs": [],
   "source": [
    "PROJ_ROOT = utils.here()\n",
    "# declare the data input directory\n",
    "HBEC_ROOT = os.path.join(PROJ_ROOT, 'data', 'interim', 'hbec')\n",
    "\n",
    "print(os.listdir(HBEC_ROOT))"
   ]
  },
  {
   "cell_type": "code",
   "execution_count": null,
   "metadata": {},
   "outputs": [],
   "source": [
    "EXP_ID = 'ELN14186_8_perc'\n",
    "EXP_ROOT = os.path.join(PROJ_ROOT, 'data', 'processed', 'hbec', EXP_ID)\n",
    "\n",
    "# declare the root directories for the various images generated during segmentation process\n",
    "ROI_ROOT = os.path.join(EXP_ROOT, 'roi')\n",
    "SEG_ROOT = os.path.join(EXP_ROOT, 'segmented', 'movement')\n",
    "MAX_FRAME_ROOT = os.path.join(EXP_ROOT, 'max_frame')\n",
    "NOISY_ROOT = os.path.join(EXP_ROOT, 'segmented', 'noisy')\n",
    "\n",
    "# regex pattern for identifying the different experimental setups and their batch ID based on their file names\n",
    "# first group captures experimental setup, second group captures batch ID\n",
    "REGEX = r'([a-zA-Z_0-9]*?)_([0-9]_[0-9]*?)_.*'"
   ]
  },
  {
   "cell_type": "markdown",
   "metadata": {},
   "source": [
    "# Setup"
   ]
  },
  {
   "cell_type": "markdown",
   "metadata": {},
   "source": [
    "Define some convenience functions. These functions are not put into `src` because they are highly dependent on the structure of the DataFrame constructed in this notebook and are only relevant for use in this notebook"
   ]
  },
  {
   "cell_type": "code",
   "execution_count": null,
   "metadata": {},
   "outputs": [],
   "source": [
    "def calc_seg_ratio(row):\n",
    "    seg_mask = np.load(os.path.join(row.seg_root, row.filename))\n",
    "    roi_mask = np.load(os.path.join(row.roi_root, row.filename))\n",
    "    ratio = seg_mask.sum() / roi_mask.sum()\n",
    "    return ratio\n",
    "\n",
    "def load_imgs(row):\n",
    "    max_frame = np.load(os.path.join(row.max_root, row.filename))\n",
    "    noisy_mask = np.load(os.path.join(row.noisy_root, row.filename))\n",
    "    seg_mask = np.load(os.path.join(row.seg_root, row.filename))\n",
    "    roi_mask = np.load(os.path.join(row.roi_root, row.filename))\n",
    "    \n",
    "    return max_frame, roi_mask, noisy_mask, seg_mask"
   ]
  },
  {
   "cell_type": "code",
   "execution_count": null,
   "metadata": {},
   "outputs": [],
   "source": [
    "# get all file names\n",
    "filenames = sorted([_f for _f in os.listdir(ROI_ROOT) if _f.endswith('npy')])\n",
    "# compile regex pattern to make repeated use more convenient\n",
    "pattern = re.compile(REGEX)\n",
    "\n",
    "# identify the group ID and batch ID for each file\n",
    "file_ids = [(_f, pattern.match(_f)) for _f in filenames]\n",
    "file_ids = [(match[0], *match[1].groups()) if match[1] is not None else match for match in file_ids]\n",
    "\n",
    "# construct a DataFrame with the extracted IDs and the various data directories\n",
    "df = pd.DataFrame(file_ids, columns=['filename', 'grp_id', 'batch_id'])\n",
    "df['seg_root'] = SEG_ROOT\n",
    "df['roi_root'] = ROI_ROOT\n",
    "df['max_root'] = MAX_FRAME_ROOT\n",
    "df['noisy_root'] = NOISY_ROOT"
   ]
  },
  {
   "cell_type": "markdown",
   "metadata": {},
   "source": [
    "# Visualization"
   ]
  },
  {
   "cell_type": "code",
   "execution_count": null,
   "metadata": {},
   "outputs": [],
   "source": [
    "# load all the images for each video\n",
    "# each video has 4 images associated with it: max projection frame, ROI, noisy mask, clean mask\n",
    "# these are loaded in the order declared\n",
    "imgs = df.apply(load_imgs, axis=1)\n",
    "# flatten the list as we only rely on the ordering of the images to identify them\n",
    "imgs = [im for grp in imgs for im in grp]"
   ]
  },
  {
   "cell_type": "code",
   "execution_count": null,
   "metadata": {},
   "outputs": [],
   "source": [
    "# visualize the 4 images from 1 video as example\n",
    "grps = np.repeat(df.grp_id.to_list(), 4)\n",
    "batches = np.repeat(df.batch_id.to_list(), 4)\n",
    "fig = plt.figure(figsize=(50, 50))\n",
    "grid = ImageGrid(fig, 111, nrows_ncols=(2, 2), axes_pad=(0.1, 0.1))\n",
    "for idx, (ax, im) in enumerate(zip(grid, imgs[12:16])):\n",
    "    \n",
    "    ax.imshow(im)\n",
    "    ax.set_title(f'{grps[idx]} {batches[idx]}')"
   ]
  },
  {
   "cell_type": "code",
   "execution_count": null,
   "metadata": {},
   "outputs": [],
   "source": [
    "# visualize the images from all videos\n",
    "grps = np.repeat(df.grp_id.to_list(), 4)\n",
    "batches = np.repeat(df.batch_id.to_list(), 4)\n",
    "fig = plt.figure(figsize=(500, 100))\n",
    "grid = ImageGrid(fig, 111, nrows_ncols=(24, 4), axes_pad=(0.02, 0.4))\n",
    "for idx, (ax, im) in enumerate(zip(grid, imgs)):\n",
    "    \n",
    "    ax.imshow(im)\n",
    "    ax.set_title(f'{grps[idx]} {batches[idx]}')"
   ]
  },
  {
   "cell_type": "markdown",
   "metadata": {},
   "source": [
    "# Processing"
   ]
  },
  {
   "cell_type": "code",
   "execution_count": null,
   "metadata": {},
   "outputs": [],
   "source": [
    "# calculate the proportion of segmented region within the ROI\n",
    "df['ratio'] = df.apply(calc_seg_ratio, axis=1)"
   ]
  },
  {
   "cell_type": "code",
   "execution_count": null,
   "metadata": {},
   "outputs": [],
   "source": [
    "df['replicate_id'] = df['batch_id'].str.split('_').str[0]"
   ]
  },
  {
   "cell_type": "markdown",
   "metadata": {},
   "source": [
    "# Summarise results"
   ]
  },
  {
   "cell_type": "code",
   "execution_count": null,
   "metadata": {},
   "outputs": [],
   "source": [
    "# rename some knockout types to have the same knockout type labels across experiments\n",
    "knockout_order = ['NT', 'g1', 'DNAI1' ,'gAA']"
   ]
  },
  {
   "cell_type": "code",
   "execution_count": null,
   "metadata": {},
   "outputs": [],
   "source": [
    "x_axis_label = 'proportion of moving region'\n",
    "def produce_porportion_summary_plot(df, x_axis_label):\n",
    "    base = alt.Chart(\n",
    "        df\n",
    "    ).properties(\n",
    "        width=300,\n",
    "        height=400\n",
    "    )\n",
    "    colorPalette = 'dark2'\n",
    "\n",
    "    #selection_mean = alt.selection_multi(fields=['experiment'], bind='legend')\n",
    "\n",
    "    points = base.mark_square(filled=False, color='black',size=300).encode(\n",
    "        y=alt.Y('ratio:Q', aggregate='mean', axis=alt.Axis(title=x_axis_label)),\n",
    "        x=alt.X('grp_id:N', axis=alt.Axis(title='experiment'), sort=knockout_order))\n",
    "\n",
    "    #selection = alt.selection_multi(fields=['experiment'], bind='legend')\n",
    "\n",
    "    all_points = base.mark_square(size=25, filled=True).encode(\n",
    "        y=alt.Y('ratio:Q'),\n",
    "        x=alt.X('grp_id:N', axis=alt.Axis(title='experiment'), sort=knockout_order),\n",
    "        color=alt.Color('replicate_id', scale=alt.Scale(scheme=colorPalette)),\n",
    "        tooltip='replicate_id:N')\n",
    "\n",
    "    mean_error_bars = base.mark_errorbar(extent='stdev').encode(\n",
    "      y=alt.Y('ratio:Q'),\n",
    "      x=alt.X('grp_id:N', sort=knockout_order))\n",
    "\n",
    "    visualise_chart = (points + all_points + mean_error_bars)\n",
    "    return (visualise_chart)"
   ]
  },
  {
   "cell_type": "code",
   "execution_count": null,
   "metadata": {},
   "outputs": [],
   "source": [
    "visualise_chart = produce_porportion_summary_plot(df, 'proportion of moving region')\n",
    "visualise_chart.save(f'{EXP_ID}_proportion_moving_region.html')\n",
    "visualise_chart"
   ]
  },
  {
   "cell_type": "markdown",
   "metadata": {},
   "source": [
    "### Normalised NT average to 1"
   ]
  },
  {
   "cell_type": "code",
   "execution_count": null,
   "metadata": {},
   "outputs": [],
   "source": [
    "normalised_mask_summary_df = df.copy()\n",
    "nt_average = np.mean(normalised_mask_summary_df.loc[(normalised_mask_summary_df.grp_id.str.contains('NT')), 'ratio'])\n",
    "normalised_mask_summary_df['ratio'] = normalised_mask_summary_df['ratio']/nt_average"
   ]
  },
  {
   "cell_type": "code",
   "execution_count": null,
   "metadata": {},
   "outputs": [],
   "source": [
    "visualise_chart = produce_porportion_summary_plot(normalised_mask_summary_df, 'proportion of moving region (NT  normalised)')\n",
    "visualise_chart.save(f'{EXP_ID}_proportion_moving_region_normalised_to_nt.html')\n",
    "visualise_chart"
   ]
  },
  {
   "cell_type": "code",
   "execution_count": null,
   "metadata": {},
   "outputs": [],
   "source": []
  }
 ],
 "metadata": {
  "kernelspec": {
   "display_name": "Environment (conda_fam13a-dev)",
   "language": "python",
   "name": "conda_fam13a-dev"
  },
  "language_info": {
   "codemirror_mode": {
    "name": "ipython",
    "version": 3
   },
   "file_extension": ".py",
   "mimetype": "text/x-python",
   "name": "python",
   "nbconvert_exporter": "python",
   "pygments_lexer": "ipython3",
   "version": "3.7.6"
  }
 },
 "nbformat": 4,
 "nbformat_minor": 2
}
