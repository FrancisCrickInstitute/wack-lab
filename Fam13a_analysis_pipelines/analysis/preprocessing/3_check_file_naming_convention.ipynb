{
 "cells": [
  {
   "cell_type": "markdown",
   "metadata": {},
   "source": [
    "# Rename files\n",
    "Data received from experiments is expected to have a specific naming convention: `{gene_knockout}_{replicate_id}_{well_id}_MMStack_Pos0{EXTENSION}`. If this is not followed, then this notebook can be used to change the new file-names to conform to the naming convention. However, the new filenames must conform to this convention (for the notebook to work): `<something>_<something>_<something>_{gene_knockout}_{replicate_id}_{well_id}{EXTENSION}`. Otherwise changes will need to be made to the penultimate cell of this notebook, where the filenames are split according to the position of \"_\" characters."
   ]
  },
  {
   "cell_type": "code",
   "execution_count": null,
   "metadata": {},
   "outputs": [],
   "source": [
    "import os\n",
    "from fam13a import utils"
   ]
  },
  {
   "cell_type": "code",
   "execution_count": null,
   "metadata": {},
   "outputs": [],
   "source": [
    "PROJ_ROOT = utils.here()\n",
    "# declare the data input directory\n",
    "HBEC_ROOT = os.path.join(PROJ_ROOT, 'data', 'interim', 'hbec')\n",
    "\n",
    "print(os.listdir(HBEC_ROOT))"
   ]
  },
  {
   "cell_type": "code",
   "execution_count": null,
   "metadata": {},
   "outputs": [],
   "source": [
    "# define the common file extension used in the input data files\n",
    "EXTENSION = '.ome.tif'"
   ]
  },
  {
   "cell_type": "code",
   "execution_count": null,
   "metadata": {},
   "outputs": [],
   "source": [
    "# set the experiment data to process\n",
    "EXP_ID = 'ELN14186_8_perc' # Also do with 'ELN14186_8_perc'\n",
    "# declare the various output directories\n",
    "DATA_ROOT = os.path.join(HBEC_ROOT, EXP_ID)\n",
    "\n",
    "# find all relevant data files in the data directory \n",
    "files = sorted([_f for _f in os.listdir(DATA_ROOT) if _f.endswith('tif')])\n",
    "\n",
    "files_old = files.copy()\n"
   ]
  },
  {
   "cell_type": "code",
   "execution_count": null,
   "metadata": {},
   "outputs": [],
   "source": [
    "print(files_old)"
   ]
  },
  {
   "cell_type": "code",
   "execution_count": null,
   "metadata": {},
   "outputs": [],
   "source": [
    "# Check that the proposed renaming scheme fits the previous naming convention\n",
    "for _f in files:\n",
    "    _, _, _, well_id, gene_knockout, replicate_id = _f.split('_')\n",
    "    replicate_id,_,_ = replicate_id.split('.')\n",
    "    print(f\"{gene_knockout}_{replicate_id}_{well_id}_MMStack_Pos0{EXTENSION}\")"
   ]
  },
  {
   "cell_type": "code",
   "execution_count": null,
   "metadata": {},
   "outputs": [],
   "source": [
    "# Rename files\n",
    "for _f in files:\n",
    "    _, _, _, well_id, gene_knockout, replicate_id = _f.split('_')\n",
    "    replicate_id,_,_ = replicate_id.split('.')\n",
    "    os.replace(f\"{DATA_ROOT}{os.path.sep}{_f}\", f\"{DATA_ROOT}{os.path.sep}{gene_knockout}_{replicate_id}_{well_id}_MMStack_Pos0{EXTENSION}\")"
   ]
  },
  {
   "cell_type": "code",
   "execution_count": null,
   "metadata": {},
   "outputs": [],
   "source": []
  }
 ],
 "metadata": {
  "kernelspec": {
   "display_name": "Environment (conda_fam13a-dev)",
   "language": "python",
   "name": "conda_fam13a-dev"
  },
  "language_info": {
   "codemirror_mode": {
    "name": "ipython",
    "version": 3
   },
   "file_extension": ".py",
   "mimetype": "text/x-python",
   "name": "python",
   "nbconvert_exporter": "python",
   "pygments_lexer": "ipython3",
   "version": "3.7.6"
  }
 },
 "nbformat": 4,
 "nbformat_minor": 2
}
