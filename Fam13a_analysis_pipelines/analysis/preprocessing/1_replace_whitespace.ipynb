{
 "cells": [
  {
   "cell_type": "markdown",
   "metadata": {},
   "source": [
    "# Intro\n",
    "\n",
    "This notebook cleans up the raw file and folder names of the raw data provided.\n",
    "\n",
    "It replaces all whitespaces in the path with underscores"
   ]
  },
  {
   "cell_type": "markdown",
   "metadata": {},
   "source": [
    "## Imports"
   ]
  },
  {
   "cell_type": "code",
   "execution_count": null,
   "metadata": {},
   "outputs": [],
   "source": [
    "import os\n",
    "\n",
    "from fam13a import utils"
   ]
  },
  {
   "cell_type": "markdown",
   "metadata": {},
   "source": [
    "## Setup constants"
   ]
  },
  {
   "cell_type": "code",
   "execution_count": null,
   "metadata": {},
   "outputs": [],
   "source": [
    "PROJ_ROOT = utils.here(True) # use relative path to avoid modifying any directories above the project root\n",
    "RAW_ROOT = os.path.join(PROJ_ROOT, 'data', 'raw')\n",
    "# delcare the list of root which will recusively be cleaned up\n",
    "DATA_ROOTS = [os.path.join(RAW_ROOT, '2020_11_16_all', 'hbec')]\n",
    "\n",
    "# define the set of string replacements\n",
    "# each entry should be a tuple of length 2, \n",
    "# where all occurences of the first string is replaced by the second \n",
    "REPLACEMENTS = {(' ', '_')}"
   ]
  },
  {
   "cell_type": "markdown",
   "metadata": {},
   "source": [
    "# Process"
   ]
  },
  {
   "cell_type": "code",
   "execution_count": null,
   "metadata": {},
   "outputs": [],
   "source": [
    "# apply cleanup to all files/folders in the DATA_ROOTS recursively\n",
    "for data_root in DATA_ROOTS:\n",
    "    for root, _, _files in os.walk(data_root):\n",
    "        for _file in _files:\n",
    "            old = os.path.join(root, _file)\n",
    "            new = old\n",
    "            # apply all string replacement operations\n",
    "            for replacement in REPLACEMENTS:\n",
    "                new = new.replace(*replacement)\n",
    "            os.renames(old, new)"
   ]
  }
 ],
 "metadata": {
  "kernelspec": {
   "display_name": "Python 3",
   "language": "python",
   "name": "python3"
  },
  "language_info": {
   "codemirror_mode": {
    "name": "ipython",
    "version": 3
   },
   "file_extension": ".py",
   "mimetype": "text/x-python",
   "name": "python",
   "nbconvert_exporter": "python",
   "pygments_lexer": "ipython3",
   "version": "3.7.6"
  }
 },
 "nbformat": 4,
 "nbformat_minor": 4
}
