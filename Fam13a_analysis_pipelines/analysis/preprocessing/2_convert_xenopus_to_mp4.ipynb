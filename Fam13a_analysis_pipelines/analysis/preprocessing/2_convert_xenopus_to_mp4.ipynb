{
 "cells": [
  {
   "cell_type": "markdown",
   "metadata": {},
   "source": [
    "# Intro\n",
    "\n",
    "Convert the raw xenopus videos from uncompressed AVI to MP4.\n",
    "\n",
    "This both drastically reduces the file size and allows the videos to be rendered inside notebooks"
   ]
  },
  {
   "cell_type": "markdown",
   "metadata": {},
   "source": [
    "## Imports"
   ]
  },
  {
   "cell_type": "code",
   "execution_count": null,
   "metadata": {},
   "outputs": [],
   "source": [
    "import os\n",
    "import cv2\n",
    "import numpy as np\n",
    "\n",
    "from fam13a import consts, utils"
   ]
  },
  {
   "cell_type": "markdown",
   "metadata": {},
   "source": [
    "## Setup constants"
   ]
  },
  {
   "cell_type": "code",
   "execution_count": null,
   "metadata": {},
   "outputs": [],
   "source": [
    "PROJ_ROOT = utils.here()\n",
    "DATA_ROOT = os.path.join(PROJ_ROOT, 'data', 'raw', '2020_07_06_all', 'xenopus') # Change the path to match the new import location.\n",
    "OUTPUT_ROOT = os.path.join(PROJ_ROOT, 'data', 'interim', 'xenopus')\n",
    "\n",
    "# files not used for analysis\n",
    "IGNORED = {'15 L2 1.avi', '15 L2 2.avi', '15 L2 3.avi', '20 L2 1.avi', '20 L2 2.avi', '20 L2 3.avi',\n",
    "           'Uninjected_1.avi', 'Uninjected 2.avi', 'Uninjected 3.avi'}\n",
    "\n",
    "INPUT_FORMAT = 'avi'\n",
    "OUTPUT_FORMAT = 'mp4'"
   ]
  },
  {
   "cell_type": "markdown",
   "metadata": {},
   "source": [
    "# Process"
   ]
  },
  {
   "cell_type": "code",
   "execution_count": null,
   "metadata": {},
   "outputs": [],
   "source": [
    "# find all raw video files\n",
    "raw_video_files = [_f for _f in os.listdir(DATA_ROOT) if _f.endswith(INPUT_FORMAT) and _f not in IGNORED]\n",
    "\n",
    "# convert each raw video file to mp4 and save it in the output directory\n",
    "for raw_file in raw_video_files:\n",
    "    print(raw_file)\n",
    "    frames = utils.frames_from_video(os.path.join(DATA_ROOT, raw_file))\n",
    "    \n",
    "    out_file = raw_file.replace(' ', '_').replace(INPUT_FORMAT, OUTPUT_FORMAT)\n",
    "    utils.frames_to_video(os.path.join(OUTPUT_ROOT, out_file), frames, fps=consts.XENOPUS_FPS)"
   ]
  }
 ],
 "metadata": {
  "kernelspec": {
   "display_name": "Environment (conda_fam13a-dev)",
   "language": "python",
   "name": "conda_fam13a-dev"
  },
  "language_info": {
   "codemirror_mode": {
    "name": "ipython",
    "version": 3
   },
   "file_extension": ".py",
   "mimetype": "text/x-python",
   "name": "python",
   "nbconvert_exporter": "python",
   "pygments_lexer": "ipython3",
   "version": "3.7.6"
  }
 },
 "nbformat": 4,
 "nbformat_minor": 2
}
