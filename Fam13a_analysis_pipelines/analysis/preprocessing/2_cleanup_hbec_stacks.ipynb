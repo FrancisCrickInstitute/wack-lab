{
 "cells": [
  {
   "cell_type": "markdown",
   "metadata": {},
   "source": [
    "# Intro\n",
    "\n",
    "This notebook is used to cleanup the raw hBEC TIFF stacks. \n",
    "\n",
    "It applies a contrast correction process and rescales the pixel values from `uint16` to `uint8`  "
   ]
  },
  {
   "cell_type": "markdown",
   "metadata": {},
   "source": [
    "## Imports"
   ]
  },
  {
   "cell_type": "code",
   "execution_count": null,
   "metadata": {},
   "outputs": [],
   "source": [
    "import os\n",
    "import numpy as np\n",
    "import joblib\n",
    "from skimage import exposure\n",
    "from tqdm import tqdm\n",
    "\n",
    "from fam13a import utils"
   ]
  },
  {
   "cell_type": "markdown",
   "metadata": {},
   "source": [
    "## Setup constants"
   ]
  },
  {
   "cell_type": "code",
   "execution_count": null,
   "metadata": {},
   "outputs": [],
   "source": [
    "PROJ_ROOT = utils.here()\n",
    "RAW_ROOT = os.path.join(PROJ_ROOT, 'data', 'raw')\n",
    "HBEC_ROOT = os.path.join(RAW_ROOT, '2020_11_16_all', 'hbec')\n",
    "EXP_IDS = os.listdir(HBEC_ROOT)\n",
    "\n",
    "OUTPUT_ROOT = os.path.join(PROJ_ROOT, 'data', 'interim', 'hbec')\n",
    "\n",
    "NCPUS = 1\n",
    "\n",
    "INPUT_FORMAT = 'tif'"
   ]
  },
  {
   "cell_type": "code",
   "execution_count": null,
   "metadata": {},
   "outputs": [],
   "source": [
    "EXP_IDS"
   ]
  },
  {
   "cell_type": "code",
   "execution_count": null,
   "metadata": {},
   "outputs": [],
   "source": [
    "# find all raw image stack files\n",
    "raw_stack_files = []\n",
    "for exp_id in EXP_IDS:\n",
    "    d_root = os.path.join(HBEC_ROOT, exp_id)\n",
    "    for root, _, files in os.walk(d_root):\n",
    "        for _f in files:\n",
    "            if _f.lower().endswith(INPUT_FORMAT) and not _f.lower().startswith('max') and not _f.lower().startswith('.'):\n",
    "                raw_stack_files.append((exp_id, root, _f))"
   ]
  },
  {
   "cell_type": "markdown",
   "metadata": {},
   "source": [
    "# Process\n",
    "\n",
    "define a simple helper function to allow for parallelisation of processing across different TIFF stacks"
   ]
  },
  {
   "cell_type": "code",
   "execution_count": null,
   "metadata": {},
   "outputs": [],
   "source": [
    "def process(raw_file):\n",
    "    exp_id, *raw_file = raw_file\n",
    "    frames = utils.frames_from_stack(os.path.join(*raw_file))\n",
    "        \n",
    "    # equalize the intensity in each frame, then rescale the values to 0-255 range\n",
    "    frames = exposure.equalize_adapthist(frames, kernel_size=15)\n",
    "    frames = exposure.rescale_intensity(frames, out_range=np.uint8)\n",
    "    frames = np.stack(frames, axis=0)\n",
    "\n",
    "    stack_out_file = raw_file[-1].replace(' ', '_')\n",
    "    \n",
    "    output_folder = os.path.join(OUTPUT_ROOT, exp_id)\n",
    "    if not os.path.exists(output_folder):\n",
    "        os.makedirs(output_folder)\n",
    "\n",
    "    utils.frames_to_stack(os.path.join(OUTPUT_ROOT, exp_id, stack_out_file), frames)          "
   ]
  },
  {
   "cell_type": "code",
   "execution_count": null,
   "metadata": {},
   "outputs": [],
   "source": [
    "# parallelize the processing over files. \n",
    "# NOTE: each file requires ~65GB of memory and ~5 minutes to process\n",
    "# with NCPUS=4, the total time to run across 24 wells is 76 min\n",
    "with joblib.Parallel(n_jobs=NCPUS, verbose=20) as par:\n",
    "    \n",
    "    par(joblib.delayed(process)(raw_file) for raw_file in raw_stack_files)        "
   ]
  }
 ],
 "metadata": {
  "kernelspec": {
   "display_name": "Python 3",
   "language": "python",
   "name": "python3"
  },
  "language_info": {
   "codemirror_mode": {
    "name": "ipython",
    "version": 3
   },
   "file_extension": ".py",
   "mimetype": "text/x-python",
   "name": "python",
   "nbconvert_exporter": "python",
   "pygments_lexer": "ipython3",
   "version": "3.8.5"
  }
 },
 "nbformat": 4,
 "nbformat_minor": 2
}
