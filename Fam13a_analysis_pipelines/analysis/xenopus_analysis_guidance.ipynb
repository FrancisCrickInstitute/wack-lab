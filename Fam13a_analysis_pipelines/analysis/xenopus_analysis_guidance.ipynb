{
 "cells": [
  {
   "cell_type": "code",
   "execution_count": 2,
   "metadata": {},
   "outputs": [
    {
     "name": "stdout",
     "output_type": "stream",
     "text": [
      "['/c/Users/hash/Documents/Projects/15-GSK/fam13a_image_analysis-master/paper-repo/analysis', '/home/hash/mambaforge/envs/fam13a-dev/lib/python37.zip', '/home/hash/mambaforge/envs/fam13a-dev/lib/python3.7', '/home/hash/mambaforge/envs/fam13a-dev/lib/python3.7/lib-dynload', '', '/home/hash/mambaforge/envs/fam13a-dev/lib/python3.7/site-packages', '/home/hash/mambaforge/envs/fam13a-dev/lib/python3.7/site-packages/portpicker-1.3.1-py3.7.egg', '/home/hash/mambaforge/envs/fam13a-dev/lib/python3.7/site-packages/IPython/extensions', '/home/hash/.ipython']\n"
     ]
    }
   ],
   "source": [
    "import sys\n",
    "\n",
    "print(sys.path)"
   ]
  },
  {
   "cell_type": "code",
   "execution_count": null,
   "metadata": {},
   "outputs": [],
   "source": [
    "os."
   ]
  },
  {
   "cell_type": "code",
   "execution_count": null,
   "metadata": {},
   "outputs": [],
   "source": []
  },
  {
   "cell_type": "markdown",
   "metadata": {},
   "source": [
    "# Introduction\n",
    "\n",
    "This notebook contains a step by step guide on the analysis of the xenopus videos.\n",
    "\n",
    "# Import\n",
    "The process for transferring new data is described in the hbec_analysis_guidance.ipynb notebook. Instead of copying data into a hbec subfolder of the new raw folder, copy it into a `xenopus` folder.\n",
    "Then run the analysis/preprocessing/2_convert_xenopus_to_mp4.ipynb, making sure to update the path of the data to be imported.\n",
    "\n",
    "## Analysis Pipeline\n",
    "The `analysis/xenopus` directory contains notebooks that analyse the xenopus data. Given **a single experiment** to analyse, these notebooks should be run in the following order to produce analysis results. \n",
    "\n",
    "| Notebook                                                                                           | Description                                                                                                                                                                                                                                                                                                                                                          | Interaction                    |\n",
    "|-------------------------------------------------------|------------------------------------|--------------------------------|\n",
    "| [1a_gradient_segmentation](xenopus/1a_gradient_segmentation.ipynb)                                        | Performs intensity based segmentation.                                                                                                                                                                                                                                                                                                   | Run notebook                   |\n",
    "| [1b_colour_segmentation](xenopus/1b_colour_segmentation.ipynb)                                            | Performs segmentation based on HSV colour space.                                                                                                                                                                                                                           | Run notebook                   |\n",
    "| [4a_place_and_evaluate_markers](xenopus/4a_place_and_evaluate_markers.ipynb) | Notebook to obtain the initial locations of the Xenopus Embryos|Set the initial markers|\n",
    "| [4b_segment_and_track_points_with_kalman_alignment](xenopus/4b_segment_and_track_points_with_kalman_alignment.ipynb) | Performs tracking of Xenopus Embryos for a given video. |Run notebook |                                                                                                                                                                                                                  |                   |\n",
    "| [5_stats_test_of_results](xenopus/5_stats_test_of_results.ipynb)                                    | Compares the summary stats of different groups using t-test                                                                                                                                                                                                                                                                                                                                | Run notebook                   |\n",
    "                                                                                                                       "
   ]
  }
 ],
 "metadata": {
  "kernelspec": {
   "display_name": "Python 3",
   "language": "python",
   "name": "python3"
  },
  "language_info": {
   "codemirror_mode": {
    "name": "ipython",
    "version": 3
   },
   "file_extension": ".py",
   "mimetype": "text/x-python",
   "name": "python",
   "nbconvert_exporter": "python",
   "pygments_lexer": "ipython3",
   "version": "3.7.6"
  }
 },
 "nbformat": 4,
 "nbformat_minor": 4
}
