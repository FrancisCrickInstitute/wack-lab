{
 "cells": [
  {
   "cell_type": "markdown",
   "metadata": {},
   "source": [
    "# Introduction\n",
    "\n",
    "This notebook contains a step by step guide on how to analyse new hbec experimental data.\n",
    "\n",
    "## Preparation\n",
    "The `analysis/preprocessing` directory contains notebooks that cleanup the raw data. Cleanup includes:\n",
    "\n",
    "| Notebook                                                                               | Description                                                                                                                                                                                                                                                                             | Interaction                                   |\n",
    "|----------------------------------------------------------------------------------------|-----------------------------------------------------------------------------------------------------------------------------------------------------------------------------------------------------------------------------------------------------------------------------------------|-----------------------------------------------|\n",
    "| [1_replace_whitespace](preprocessing/1_replace_whitespace.ipynb)                     | replacing whitespace in names of files with underscore characters.                                                                                                                                                                                                                      | choose correct `DATA_ROOTS` and run notebook                                  |\n",
    "| [2_cleanup_hbec_stacks](preprocessing/2_cleanup_hbec_stacks.ipynb)                   | applies a contrast correction and rescales pixel intensities to the same   scale.                                                                                                                                                                                                       | choose correct `HBEC_ROOTS` and run notebook                                  |\n",
    "| [3_check_file_naming_convention](preprocessing/3_check_file_naming_convention.ipynb) | if the filenames in a new experiment do not have the specific naming   convention:   `{gene_knockout}_{replicate_id}_{well_id}_MMStack_Pos0{EXTENSION}`, then this notebook must be run. | consider current experiment naming convention after choosing specific experiment |\n",
    "\n",
    "## Analysis\n",
    "The `analysis/hbec` directory contains notebooks that analyse the hbec data. Given **a single experiment** to analyse, these notebooks should be run in the following order to produce analysis results. \n",
    "\n",
    "| Notebook                                                                                           | Description                                                                                                                                                                                                                                                                                                                                                          | Interaction                    |\n",
    "|----------------------------------------------------------------------------------------------------|----------------------------------------------------------------------------------------------------------------------------------------------------------------------------------------------------------------------------------------------------------------------------------------------------------------------------------------------------------------------|--------------------------------|\n",
    "| [1_segment_moving_regions](hbec/1_segment_moving_regions.ipynb)                                    | segments moving regions in each video of an experiment.                                                                                                                                                                                                                                                                                                              | choose experiment and run notebook  |\n",
    "| [2_segmentation_variance](hbec/2_segmentation_variance.ipynb)                                      | visualise the segmentation of moving regions and also calculate summary   statistics for moving region area across types of gene knockout.                                                                                                                                                                                                                           | choose experiment and run notebook|\n",
    "| [hbec/auxiliary_analysis/2_minimise_error_in_registration](hbec/auxiliary_analysis/2_minimise_error_in_registration.ipynb) | explore `MAX_WINDOW`, `PTRN_SIZE`, `REGION_SIZE` parameters for the   registration analysis step. This notebook plots the registration associated   errors for a different sets of `MAX_WINDOW`, `PTRN_SIZE`, `REGION_SIZE`.   Using these plots, one can choose a set of `MAX_WINDOW`, `PTRN_SIZE`,   `REGION_SIZE` to minimise the registration associated errors. | choose experiment, then choose registration parameters based on error graphs |\n",
    "| [3_registration](hbec/3_registration.ipynb)                                                        | calculates the velocity vector fields of each video using registration   analysis, given a chosen set of `MAX_WINDOW`, `PTRN_SIZE`, `REGION_SIZE`.                                                                                                                                                                                                                   | choose experiment and run notebook |\n",
    "| [3_registration_visualize](hbec/3_registration_visualize.ipynb)                                    | visualise the velocity vector fields.                                                                                                                                                                                                                                                                                                                                | choose experiment and run notebook|\n",
    "| [3b_spatial_auto_correlation](hbec/3b_spatial_auto_correlation.ipynb)                              | segment coordinated regions - by calculating the spatial autocorrelation   for each experimental well's average velocity field.                                                                                                                                                                                                                                      | choose experiment, choose neighborhood size and run notebook|\n",
    "| [3c_visualise_spatial_auto_correlation](hbec/3c_visualise_spatial_auto_correlation.ipynb)          | visualise regions of coordinated motion.                                                                                                                                                                                                                                                                                                                             | choose experiment and run notebook|\n",
    "| [4_summary_stats](hbec/4_summary_stats.ipynb)                                                      | summary statistics describing moving regions, coordinated regions and   average speed in those regions per experiment                                                                                                                                                                                                                                                | choose experiment and run notebook|\n",
    "| [4a_combined_summary_stats](hbec/4a_combined_summary_stats.ipynb)                                  | summary statistics across all experiments describing moving regions,   coordinated regions and average speed                                                                                                                                                                                                                                                         | run notebook (for all experiments)|\n",
    "| [4b_moving_region_summary_stats](hbec/4b_moving_region_summary_stats.ipynb)                                  | summary statistics across all experiments describing moving regions only. This can be run if the registration and spatial autocorrelation notebooks (3_\\*) have not ben run yet.                                                                                                                                                                                                                                                     | run notebook (for all experiments)|\n",
    "\n",
    "\n",
    "## Saving plots/images\n",
    "\n",
    "- Some notebooks display images, e.g. in [2_segmentation_variance](hbec/2_segmentation_variance.ipynb) the segmentation of motion mask is shown for each well (given an experiment). These masks are displayed as images in the notebook and can be accessed by using `shift + right-click` on the image. Then the image can either be copied or saved to a local location. \n",
    "- Some notebooks display interactive plots, e.g. in [4a_combined_summary_stats](hbec/4a_combined_summary_stats.ipynb) the speeds of all wells are plotted for all experiments. This interactive plot cannot be accessed as described in the previous point. Instead these plots are saved as html files in the location of the notebook. The html file can then be accessed using `right-click` in the Jupyter file explorer and then one can click `download`. This opens the html file in a new tab (in Google Chrome). Then using `ctrl-s`, the html file can be saved to a local location"
   ]
  }
 ],
 "metadata": {
  "kernelspec": {
   "display_name": "Python 3",
   "language": "python",
   "name": "python3"
  },
  "language_info": {
   "codemirror_mode": {
    "name": "ipython",
    "version": 3
   },
   "file_extension": ".py",
   "mimetype": "text/x-python",
   "name": "python",
   "nbconvert_exporter": "python",
   "pygments_lexer": "ipython3",
   "version": "3.7.6"
  }
 },
 "nbformat": 4,
 "nbformat_minor": 4
}
