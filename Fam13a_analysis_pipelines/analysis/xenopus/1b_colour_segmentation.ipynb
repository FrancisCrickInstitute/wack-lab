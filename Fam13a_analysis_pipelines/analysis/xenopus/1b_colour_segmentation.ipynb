{
 "cells": [
  {
   "cell_type": "markdown",
   "metadata": {},
   "source": [
    "# Intro\n",
    "\n",
    "This notebook applies the HSV colour based segmentation process to create masks of individual embryos\n",
    "\n",
    "The outputs of this notebook and [1a_gradient_segmentation](1a_gradient_segmentation.ipynb) are combined (in downstream processes) to generate the final segmentation mask"
   ]
  },
  {
   "cell_type": "markdown",
   "metadata": {},
   "source": [
    "# Imports"
   ]
  },
  {
   "cell_type": "code",
   "execution_count": 1,
   "metadata": {},
   "outputs": [],
   "source": [
    "import os\n",
    "import shutil\n",
    "import numpy as np\n",
    "import cv2\n",
    "from joblib import delayed, Parallel\n",
    "from tqdm import tqdm\n",
    "\n",
    "from fam13a import utils, image\n",
    "from fam13a.image.consts import HSV_MIN_THRESHOLD"
   ]
  },
  {
   "cell_type": "markdown",
   "metadata": {},
   "source": [
    "# Constants"
   ]
  },
  {
   "cell_type": "code",
   "execution_count": 6,
   "metadata": {},
   "outputs": [
    {
     "name": "stdout",
     "output_type": "stream",
     "text": [
      "['20_L2_MO_late_3', '10_L2_3', '15_L2_MO_late_1', '5_L2_3', 'C_MO_2', '20_L2_MO_late_2', 'C_MO_3', '5_L2_2', '10_L2_2', '15_L2_MO_late_3', '5_L2_1', '10_L2_1', '20_L2_MO_late_1', '15_L2_MO_late_2', 'C_MO_1']\n"
     ]
    }
   ],
   "source": [
    "PROJ_ROOT = utils.here()\n",
    "DATA_ROOT = os.path.join(PROJ_ROOT, 'data', 'interim', 'xenopus')\n",
    "OUTPUT_ROOT = os.path.join(PROJ_ROOT, 'data', 'processed', 'xenopus', 'segmented', 'colour')\n",
    "NCPUS = 8\n",
    "\n",
    "# define the cropping to apply to all frames in a video\n",
    "# use None to signify no cropping as slice(0, 0) will pick out an empty array\n",
    "CROPS = (slice(50, None), slice(None, None))\n",
    "\n",
    "HSV_MAX_THRESHOLD = np.array([255, 255, 255])\n",
    "\n",
    "file_ids = [_f.split('.mp4')[0] for _f in os.listdir(DATA_ROOT) if _f.endswith('mp4')]\n",
    "print(file_ids)"
   ]
  },
  {
   "cell_type": "markdown",
   "metadata": {},
   "source": [
    "# Setup"
   ]
  },
  {
   "cell_type": "code",
   "execution_count": null,
   "metadata": {},
   "outputs": [],
   "source": [
    "# define a simple wrapper function for the segmentation to make it easy to parallelise\n",
    "def process(frame, label, min_thr, max_thr, output, zfill_val):\n",
    "    # mask each frame based on whether the pixel values are in the \n",
    "    # given range in HSV colour space \n",
    "    mask = cv2.inRange(frame, min_thr, max_thr)\n",
    "    name = f'{label}'.zfill(zfill_val)\n",
    "    np.save(os.path.join(output, name), mask)"
   ]
  },
  {
   "cell_type": "markdown",
   "metadata": {},
   "source": [
    "# Processing\n",
    "\n",
    "Each video takes ~20s to process on 8 CPUs"
   ]
  },
  {
   "cell_type": "code",
   "execution_count": null,
   "metadata": {},
   "outputs": [],
   "source": [
    "for file_count, file_id in enumerate(file_ids):\n",
    "    print(f'Started processing: {file_id} ({file_count+1} of {len(file_ids)})')\n",
    "    # ensure output directory exists and it is empty\n",
    "    output = os.path.join(OUTPUT_ROOT, file_id)\n",
    "    try:\n",
    "        shutil.rmtree(output)\n",
    "    except FileNotFoundError:\n",
    "        pass\n",
    "    os.makedirs(output)\n",
    "    \n",
    "    # load video frames\n",
    "    frames = utils.frames_from_video(os.path.join(DATA_ROOT, f'{file_id}.mp4'))\n",
    "    # calculate the zfill value to use on the output file names so they are \n",
    "    # sorted alphanumerically by name\n",
    "    zfill_val = len(str(frames.shape[0]))\n",
    "    # convert frames from BGR to HSV colour format for segmentation\n",
    "    frames = [cv2.cvtColor(frame, cv2.COLOR_BGR2HSV) for frame in frames]\n",
    "\n",
    "    # crop all frames in the video as specified\n",
    "    frames = np.stack(frames, axis=0)[(..., *CROPS)]\n",
    "\n",
    "    with Parallel(n_jobs=NCPUS, verbose=1) as par:\n",
    "        par(delayed(process)(\n",
    "            frame, label, HSV_MIN_THRESHOLD, HSV_MAX_THRESHOLD, output, zfill_val\n",
    "        ) for label, frame in enumerate(frames))"
   ]
  }
 ],
 "metadata": {
  "kernelspec": {
   "display_name": "Environment (conda_fam13a-dev)",
   "language": "python",
   "name": "conda_fam13a-dev"
  },
  "language_info": {
   "codemirror_mode": {
    "name": "ipython",
    "version": 3
   },
   "file_extension": ".py",
   "mimetype": "text/x-python",
   "name": "python",
   "nbconvert_exporter": "python",
   "pygments_lexer": "ipython3",
   "version": "3.7.6"
  }
 },
 "nbformat": 4,
 "nbformat_minor": 2
}
