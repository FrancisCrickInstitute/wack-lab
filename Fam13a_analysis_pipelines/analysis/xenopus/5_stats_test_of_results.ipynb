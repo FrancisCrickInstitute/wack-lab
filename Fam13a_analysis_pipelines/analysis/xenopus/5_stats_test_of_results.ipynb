{
 "cells": [
  {
   "cell_type": "markdown",
   "metadata": {},
   "source": [
    "# Statistical Analysis\n",
    "This notebook can be used to analyse the results from the tracking algorithm (see [4b_segment_and_track_points_with_kalman_alignment](4b_segment_and_track_points_with_kalman_alignment.ipynb)). First, you specify which videos to consider and place them in groups to compare. The notebook runs welch t-tests to compare the velocity measurements, average velocity per path and average velocity per video. Finally, it generates boxplots that show the measurements in the videos.\n",
    "\n",
    "Note that the data first have to be processed in 3b\n",
    "\n",
    "The data and pipeline version of this notebook are the commit {insert commit hash here}."
   ]
  },
  {
   "cell_type": "markdown",
   "metadata": {},
   "source": [
    "# Steps to be done before analysis:\n",
    "Generate markers for every video with the notebook place_and_evaluate_markers.ipynb\n",
    "Run segment_and_track_points_with_kalman_alignment.ipynb for every video"
   ]
  },
  {
   "cell_type": "code",
   "execution_count": null,
   "metadata": {},
   "outputs": [],
   "source": [
    "# Imports\n",
    "from IPython import display\n",
    "import os\n",
    "\n",
    "import yaml\n",
    "import numpy as np\n",
    "import pandas as pd\n",
    "from scipy.stats import ttest_ind\n",
    "import matplotlib.pyplot as plt\n",
    "\n",
    "from fam13a import utils"
   ]
  },
  {
   "cell_type": "markdown",
   "metadata": {},
   "source": [
    "The videos that must be included in the analysis can be specified below. You can assign the videos to belong to one of the groups such that you can compare both groups against each other in the welch t-tests performed later in the notebook."
   ]
  },
  {
   "cell_type": "code",
   "execution_count": null,
   "metadata": {},
   "outputs": [],
   "source": [
    "DATA_DIR = os.path.join(utils.here(True), 'data', 'processed', 'xenopus', 'statistics')\n",
    "group_1_video_keys = ['15_L2_MO_late_1', '15_L2_MO_late_2', '15_L2_MO_late_3']\n",
    "group_2_video_keys = ['C_MO_1', 'C_MO_2', 'C_MO_3']"
   ]
  },
  {
   "cell_type": "code",
   "execution_count": null,
   "metadata": {},
   "outputs": [],
   "source": [
    "def determine_category(video_id):\n",
    "    if video_id in group_1_video_keys:\n",
    "        return \"Group 1\"\n",
    "    elif video_id in group_2_video_keys:\n",
    "        return \"Group 2\"\n",
    "    else:\n",
    "        return \"undefined\""
   ]
  },
  {
   "cell_type": "markdown",
   "metadata": {},
   "source": [
    "# Results"
   ]
  },
  {
   "cell_type": "code",
   "execution_count": null,
   "metadata": {},
   "outputs": [],
   "source": [
    "df = pd.DataFrame(dict({\"video_id\": [], \"path_id\": [], \"vel\": []}))\n",
    "video_keys = group_1_video_keys + group_2_video_keys\n",
    "for VIDEO_ID in video_keys:\n",
    "    yml_file = os.path.join(DATA_DIR, VIDEO_ID + \".yml\")\n",
    "    if os.path.exists(yml_file):\n",
    "        with open(yml_file, \"r\") as f:\n",
    "            result = yaml.load(f, Loader=yaml.SafeLoader)[0]\n",
    "        for path_id in range(len(result['vel_per_path'])):\n",
    "            df = df.append(pd.DataFrame(dict({\"video_id\": VIDEO_ID,\n",
    "                                              \"path_id\": int(path_id)+1,\n",
    "                                              \"vel\": result['vel_per_path'][path_id]})))\n",
    "df[\"video_category\"] = df[\"video_id\"].apply(determine_category)"
   ]
  },
  {
   "cell_type": "markdown",
   "metadata": {},
   "source": [
    "## Save results to CSV\n",
    "The following lines of code store the results in a csv for further analysis in a different program. Note that only the union of the experiments listed in `group_1_video_keys` and `group_2_video_keys`are included. If you wish to include more experiments, you can just add them to these lists and ignore the group column in the CVS if this is then no longer meaningful."
   ]
  },
  {
   "cell_type": "code",
   "execution_count": null,
   "metadata": {},
   "outputs": [],
   "source": [
    "filename = f\"{DATA_DIR}{os.path.sep}xenopus_path_data.csv\"\n",
    "df.to_csv(filename, index = False)\n",
    "print(f\"Saved outputs to {filename}\")"
   ]
  },
  {
   "cell_type": "markdown",
   "metadata": {},
   "source": [
    "# t-test all individual velocity measurements\n",
    "https://en.wikipedia.org/wiki/Welch%27s_t-test"
   ]
  },
  {
   "cell_type": "code",
   "execution_count": null,
   "metadata": {},
   "outputs": [],
   "source": [
    "test_result = ttest_ind(df.loc[df[\"video_category\"]==\"Group 1\",][\"vel\"],\n",
    "                        df.loc[df[\"video_category\"]==\"Group 2\",][\"vel\"],\n",
    "                        equal_var=False)\n",
    "print(f\"t-statistic: {test_result[0]}\")\n",
    "print(f\"two sided p-value: {test_result[1]}\")"
   ]
  },
  {
   "cell_type": "markdown",
   "metadata": {},
   "source": [
    "# t-test average velocity per path\n",
    "https://en.wikipedia.org/wiki/Welch%27s_t-test"
   ]
  },
  {
   "cell_type": "code",
   "execution_count": null,
   "metadata": {},
   "outputs": [],
   "source": [
    "test_result = ttest_ind(df.loc[df[\"video_category\"]==\"Group 1\",].groupby([\"video_id\", \"path_id\"]).mean()[\"vel\"].values,\n",
    "                        df.loc[df[\"video_category\"]==\"Group 2\",].groupby([\"video_id\", \"path_id\"]).mean()[\"vel\"].values,\n",
    "                        equal_var=False)\n",
    "print(\"t-statistic: \" + str(test_result[0]))\n",
    "print(\"two sided p-value: \" + str(test_result[1]))"
   ]
  },
  {
   "cell_type": "markdown",
   "metadata": {},
   "source": [
    "# t-test average velocity per video\n",
    "https://en.wikipedia.org/wiki/Welch%27s_t-test\n",
    "The average is a weighted average as in longer paths contribute more to the average velocity in a video than shorter paths."
   ]
  },
  {
   "cell_type": "code",
   "execution_count": null,
   "metadata": {},
   "outputs": [],
   "source": [
    "test_result = ttest_ind(df.loc[df[\"video_category\"]==\"Group 1\",].groupby(\"video_id\").mean()[\"vel\"].values,\n",
    "                        df.loc[df[\"video_category\"]==\"Group 2\",].groupby(\"video_id\").mean()[\"vel\"].values,\n",
    "                        equal_var=False)\n",
    "print(\"t-statistic: \" + str(test_result[0]))\n",
    "print(\"two sided p-value: \" + str(test_result[1]))"
   ]
  },
  {
   "cell_type": "markdown",
   "metadata": {},
   "source": [
    "# Generate plots"
   ]
  },
  {
   "cell_type": "code",
   "execution_count": null,
   "metadata": {},
   "outputs": [],
   "source": [
    "plt.rcParams['figure.figsize'] = [17, 10]\n",
    "df.boxplot(column=\"vel\", by=\"video_id\", fontsize=20)\n",
    "plt.show()\n",
    "df.boxplot(column=\"vel\", by=\"video_id\", showfliers=False, fontsize=16)\n",
    "plt.show()"
   ]
  },
  {
   "cell_type": "code",
   "execution_count": null,
   "metadata": {},
   "outputs": [],
   "source": [
    "plt.rcParams['figure.figsize'] = [50, 17]\n",
    "df.groupby(\"video_id\").boxplot(column=\"vel\", by=\"path_id\", sharey=True, fontsize=20)\n",
    "plt.show()\n",
    "df.groupby(\"video_id\").boxplot(column=\"vel\", by=\"path_id\", sharey=False, fontsize=20)\n",
    "plt.show()"
   ]
  },
  {
   "cell_type": "code",
   "execution_count": null,
   "metadata": {},
   "outputs": [],
   "source": [
    "plt.rcParams['figure.figsize'] = [15, 10]\n",
    "df.boxplot(column=\"vel\", by=\"video_category\", fontsize=15)\n",
    "plt.show()\n",
    "df.boxplot(column=\"vel\", by=\"video_category\", showfliers=False, fontsize=15)\n",
    "plt.show()"
   ]
  },
  {
   "cell_type": "code",
   "execution_count": null,
   "metadata": {},
   "outputs": [],
   "source": [
    "plt.rcParams['figure.figsize'] = [30, 15]\n",
    "df.groupby(\"video_category\").boxplot(column=\"vel\", by=\"path_id\", sharey=True, fontsize=20)\n",
    "plt.show()\n",
    "df.groupby(\"video_category\").boxplot(column=\"vel\", by=\"path_id\", sharey=False, fontsize=20)\n",
    "plt.show()"
   ]
  }
 ],
 "metadata": {
  "kernelspec": {
   "display_name": "Environment (conda_fam13a-dev)",
   "language": "python",
   "name": "conda_fam13a-dev"
  },
  "language_info": {
   "codemirror_mode": {
    "name": "ipython",
    "version": 3
   },
   "file_extension": ".py",
   "mimetype": "text/x-python",
   "name": "python",
   "nbconvert_exporter": "python",
   "pygments_lexer": "ipython3",
   "version": "3.7.6"
  }
 },
 "nbformat": 4,
 "nbformat_minor": 2
}
