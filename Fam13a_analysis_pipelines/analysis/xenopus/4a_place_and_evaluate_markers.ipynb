{
 "cells": [
  {
   "cell_type": "markdown",
   "metadata": {},
   "source": [
    "# Get Initial Markers\n",
    "Before running the tracking algorithm on the video, you need to define the initial markers of the objects. You have to do this based on the first frame. The markers do not have to be exactly in the middle of the object, but approximately the middle is good enough (the algorithm will correct this for you). You can specify which video to consider below:"
   ]
  },
  {
   "cell_type": "code",
   "execution_count": null,
   "metadata": {},
   "outputs": [],
   "source": [
    "from IPython import display\n",
    "import os\n",
    "\n",
    "import cv2\n",
    "import scipy as sp\n",
    "import skimage\n",
    "import numpy as np\n",
    "import pandas as pd\n",
    "import matplotlib.pyplot as plt\n",
    "from matplotlib.ticker import MultipleLocator\n",
    "\n",
    "import yaml\n",
    "\n",
    "from fam13a import consts, utils, track, image, kalman"
   ]
  },
  {
   "cell_type": "code",
   "execution_count": null,
   "metadata": {},
   "outputs": [],
   "source": [
    "PROJ_ROOT = utils.here(True)\n",
    "VIDEO_ROOT = os.path.join(PROJ_ROOT, 'data', 'interim', 'xenopus')\n",
    "MARKERS_SEGMENTED_ROOT = os.path.join(PROJ_ROOT, 'data', 'processed', 'xenopus', 'segmented', 'markers')\n"
   ]
  },
  {
   "cell_type": "code",
   "execution_count": null,
   "metadata": {},
   "outputs": [],
   "source": [
    "#Print all videos where markers have already been generated.\n",
    "print(sorted([_f for _f in os.listdir(MARKERS_SEGMENTED_ROOT) if not _f.endswith('dvc')]))"
   ]
  },
  {
   "cell_type": "code",
   "execution_count": null,
   "metadata": {},
   "outputs": [],
   "source": [
    "# Print all available videos\n",
    "GRAD_SEGMENTED_ROOT = os.path.join(PROJ_ROOT, 'data', 'processed', 'xenopus', 'segmented', 'gradient')\n",
    "COLOUR_SEGMENTED_ROOT = os.path.join(PROJ_ROOT, 'data', 'processed', 'xenopus', 'segmented', 'colour')\n",
    "print(sorted([_f for _f in os.listdir(GRAD_SEGMENTED_ROOT) if not _f.endswith('dvc')]))"
   ]
  },
  {
   "cell_type": "code",
   "execution_count": null,
   "metadata": {},
   "outputs": [],
   "source": [
    "VIDEO_ID = '5_L2_1'\n",
    "raw_frames = utils.frames_from_video(os.path.join(VIDEO_ROOT, f'{VIDEO_ID}.mp4'))\n",
    "frame = cv2.cvtColor(raw_frames[0, :],\n",
    "                     cv2.COLOR_BGR2HSV)"
   ]
  },
  {
   "cell_type": "markdown",
   "metadata": {},
   "source": [
    "# This will show the first frame, from which you can derive the locations of the markers."
   ]
  },
  {
   "cell_type": "code",
   "execution_count": null,
   "metadata": {},
   "outputs": [],
   "source": [
    "fig = plt.figure()\n",
    "fig.set_size_inches(10,10)\n",
    "plt.imshow(frame)\n",
    "minorLocator = MultipleLocator(100)\n",
    "plt.grid(b=True, which=\"both\")\n",
    "plt.gca().xaxis.set_minor_locator(minorLocator)\n",
    "plt.gca().yaxis.set_minor_locator(minorLocator)\n",
    "plt.show()"
   ]
  },
  {
   "cell_type": "markdown",
   "metadata": {},
   "source": [
    "# Create initial set of markers using `image.detect.centers_of_mass`"
   ]
  },
  {
   "cell_type": "code",
   "execution_count": null,
   "metadata": {},
   "outputs": [],
   "source": [
    "grad_frames = os.listdir(os.path.join(GRAD_SEGMENTED_ROOT, VIDEO_ID))\n",
    "grad_frames = sorted(grad_frames)\n",
    "grad_frames = np.load(os.path.join(GRAD_SEGMENTED_ROOT, VIDEO_ID, grad_frames[0]))\n",
    "grad_frames.shape"
   ]
  },
  {
   "cell_type": "code",
   "execution_count": null,
   "metadata": {},
   "outputs": [],
   "source": [
    "colour_frames = os.listdir(os.path.join(COLOUR_SEGMENTED_ROOT, VIDEO_ID))\n",
    "colour_frames = sorted(colour_frames)\n",
    "colour_frames = np.load(os.path.join(COLOUR_SEGMENTED_ROOT, VIDEO_ID, colour_frames[0]))\n",
    "colour_frames.shape"
   ]
  },
  {
   "cell_type": "code",
   "execution_count": null,
   "metadata": {},
   "outputs": [],
   "source": [
    "comb_frames = np.logical_and(colour_frames, grad_frames).astype(np.uint8)\n",
    "comb_frames = image.utils.filter_area(comb_frames, min_area=1000)"
   ]
  },
  {
   "cell_type": "code",
   "execution_count": null,
   "metadata": {},
   "outputs": [],
   "source": [
    "# Centres of mass for each segmented object\n",
    "points = image.detect.centers_of_mass(sp.ndimage.label(comb_frames)[0]) \n",
    "points = {k.item():list(v) for k,v in points.items()}\n"
   ]
  },
  {
   "cell_type": "markdown",
   "metadata": {},
   "source": [
    "# Evaluate initial markers\n",
    "Run this after you have created the file with markers"
   ]
  },
  {
   "cell_type": "code",
   "execution_count": null,
   "metadata": {},
   "outputs": [],
   "source": [
    "# If you want to look at what markers are in the yml file, set show_stored_markers to True\n",
    "show_stored_markers = False\n",
    "if show_stored_markers:\n",
    "    with open(os.path.join(MARKERS_SEGMENTED_ROOT, VIDEO_ID + \".yml\"), \"r\") as f:\n",
    "        points = yaml.load(f, Loader=yaml.SafeLoader)"
   ]
  },
  {
   "cell_type": "code",
   "execution_count": null,
   "metadata": {},
   "outputs": [],
   "source": [
    "fig = plt.figure()\n",
    "fig.set_size_inches(10,10)\n",
    "plt.imshow(frame)\n",
    "plt.scatter([value[1] for key, value in points.items()], [value[0] for key, value in points.items()], color=\"r\", marker=\"*\")\n",
    "minorLocator = MultipleLocator(100)\n",
    "plt.grid(b=True, which=\"both\")\n",
    "plt.gca().xaxis.set_minor_locator(minorLocator)\n",
    "plt.gca().yaxis.set_minor_locator(minorLocator)\n",
    "plt.show()"
   ]
  },
  {
   "cell_type": "code",
   "execution_count": null,
   "metadata": {},
   "outputs": [],
   "source": [
    "# Display the points\n",
    "points"
   ]
  },
  {
   "cell_type": "code",
   "execution_count": null,
   "metadata": {},
   "outputs": [],
   "source": [
    "## Append additional points\n",
    "# points[14] = [320, 175] # Comment in this line and change as appropriate. Also append more points as appropriate"
   ]
  },
  {
   "cell_type": "code",
   "execution_count": null,
   "metadata": {},
   "outputs": [],
   "source": [
    "## shifting all points by a constant amount in a specific direction\n",
    "#points = {k: [v[0]+50, v[1]] for k,v in points.items()} # This line can be used to shift all points (e.g. by 50)"
   ]
  },
  {
   "cell_type": "markdown",
   "metadata": {},
   "source": [
    "# Defining markers\n",
    "The points dictionary has an integer as key and a list of coordinates as values. Append points as indicated in the line above.\n",
    "Note than when looking at the plot, the axes are flipped, so what looks like an X coordinate in the image is Y and vice versa. "
   ]
  },
  {
   "cell_type": "code",
   "execution_count": null,
   "metadata": {},
   "outputs": [],
   "source": [
    "# Check the new points have been added\n",
    "points"
   ]
  },
  {
   "cell_type": "code",
   "execution_count": null,
   "metadata": {},
   "outputs": [],
   "source": [
    "fig = plt.figure()\n",
    "fig.set_size_inches(10,10)\n",
    "plt.imshow(frame)\n",
    "plt.scatter([value[1] for key, value in points.items()], [value[0] for key, value in points.items()], color=\"r\", marker=\"*\")\n",
    "minorLocator = MultipleLocator(100)\n",
    "plt.grid(b=True, which=\"both\")\n",
    "plt.gca().xaxis.set_minor_locator(minorLocator)\n",
    "plt.gca().yaxis.set_minor_locator(minorLocator)\n",
    "plt.show()"
   ]
  },
  {
   "cell_type": "markdown",
   "metadata": {},
   "source": [
    "### Once you are happy with the markers, store them in the yml file"
   ]
  },
  {
   "cell_type": "code",
   "execution_count": null,
   "metadata": {},
   "outputs": [],
   "source": [
    "with open(os.path.join(MARKERS_SEGMENTED_ROOT, VIDEO_ID + \".yml\"), 'w') as outfile:\n",
    "    yaml.dump(points, outfile, default_flow_style = False)\n",
    "print(\"Markers for this video are stored at: \" + os.path.join(MARKERS_SEGMENTED_ROOT, VIDEO_ID + \".yml\"))"
   ]
  }
 ],
 "metadata": {
  "kernelspec": {
   "display_name": "Environment (conda_fam13a-dev)",
   "language": "python",
   "name": "conda_fam13a-dev"
  },
  "language_info": {
   "codemirror_mode": {
    "name": "ipython",
    "version": 3
   },
   "file_extension": ".py",
   "mimetype": "text/x-python",
   "name": "python",
   "nbconvert_exporter": "python",
   "pygments_lexer": "ipython3",
   "version": "3.7.6"
  }
 },
 "nbformat": 4,
 "nbformat_minor": 2
}
