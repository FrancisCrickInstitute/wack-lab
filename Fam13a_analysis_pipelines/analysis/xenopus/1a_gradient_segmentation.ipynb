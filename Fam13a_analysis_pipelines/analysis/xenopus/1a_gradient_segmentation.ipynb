{
 "cells": [
  {
   "cell_type": "markdown",
   "metadata": {},
   "source": [
    "# Intro\n",
    "\n",
    "This notebook applies the intensity gradient based segmentation process to create masks of individual embryos\n",
    "\n",
    "The outputs of this notebook and [1b_gradient_segmentation](1b_gradient_segmentation.ipynb) are combined (in downstream processes) to generate the final segmentation mask"
   ]
  },
  {
   "cell_type": "markdown",
   "metadata": {},
   "source": [
    "# Imports"
   ]
  },
  {
   "cell_type": "code",
   "execution_count": null,
   "metadata": {},
   "outputs": [],
   "source": [
    "import os\n",
    "import shutil\n",
    "import numpy as np\n",
    "import cv2\n",
    "from joblib import delayed, Parallel\n",
    "from tqdm import tqdm\n",
    "\n",
    "from fam13a import utils, image"
   ]
  },
  {
   "cell_type": "markdown",
   "metadata": {},
   "source": [
    "# Constants"
   ]
  },
  {
   "cell_type": "code",
   "execution_count": null,
   "metadata": {},
   "outputs": [],
   "source": [
    "PROJ_ROOT = utils.here()\n",
    "DATA_ROOT = os.path.join(PROJ_ROOT, 'data', 'interim', 'xenopus')\n",
    "OUTPUT_ROOT = os.path.join(PROJ_ROOT, 'data', 'processed', 'xenopus', 'segmented', 'gradient')\n",
    "\n",
    "# set level of parallelisation\n",
    "NCPUS = 8\n",
    "\n",
    "# define the cropping to apply to all frames in a video\n",
    "# use None to signify no cropping as slice(0, 0) will pick out an empty array\n",
    "# we need to crop the Xenopus videos because there is a timer added to the top-right corner all videos\n",
    "# which heavily skews any adaptive calculation in the segmentation process\n",
    "CROPS = (slice(50, None), slice(None, None)) \n",
    "\n",
    "file_ids = [_f.split('.mp4')[0] for _f in os.listdir(DATA_ROOT) if _f.endswith('mp4')]\n",
    "print(file_ids)"
   ]
  },
  {
   "cell_type": "markdown",
   "metadata": {},
   "source": [
    "# Setup"
   ]
  },
  {
   "cell_type": "code",
   "execution_count": null,
   "metadata": {},
   "outputs": [],
   "source": [
    "# define a simple wrapper function for the segmentation to make it easy to parallelise\n",
    "def process(frame, label, output, zfill_val):\n",
    "    # apply the segmentation algorithm to a single frame\n",
    "    mask = image.segment.gradient(frame)\n",
    "    # pad the output name of the file with 0's so when they are sorted alphabetically\n",
    "    # they are in the correct order\n",
    "    name = f'{label}'.zfill(zfill_val)\n",
    "    np.save(os.path.join(output, name), mask)"
   ]
  },
  {
   "cell_type": "markdown",
   "metadata": {},
   "source": [
    "# Processing\n",
    "\n",
    "Each video takes ~10min to process on 8 CPUs"
   ]
  },
  {
   "cell_type": "code",
   "execution_count": null,
   "metadata": {},
   "outputs": [],
   "source": [
    "# loop over each input video\n",
    "for file_count, file_id in enumerate(file_ids):\n",
    "    print(f'Started processing: {file_id} ({file_count+1} of {len(file_ids)})')\n",
    "    # ensure output directory exists and it is empty\n",
    "    output = os.path.join(OUTPUT_ROOT, file_id)\n",
    "    try:\n",
    "        shutil.rmtree(output)\n",
    "    except FileNotFoundError:\n",
    "        pass\n",
    "    os.makedirs(output)\n",
    "    \n",
    "    # load video frames\n",
    "    frames = utils.frames_from_video(os.path.join(DATA_ROOT, f'{file_id}.mp4'))\n",
    "    # calculate the zfill value to use on the output file names so they are \n",
    "    # sorted alphanumerically by name\n",
    "    zfill_val = len(str(frames.shape[0]))\n",
    "    \n",
    "    # convert colour images to grayscale\n",
    "    frames = [cv2.cvtColor(frame, cv2.COLOR_BGR2GRAY) for frame in frames]\n",
    "    # estimate and remove the background from each frame using a patched approach\n",
    "    frames = image.background.remove_patched(frames, image.consts.XENOPUS_BCKGR_PATCH_SHAPE,\n",
    "                                             invert=True, ncpus=NCPUS)\n",
    "\n",
    "    # crop all frames in the video to remove the timer in the top-right corner\n",
    "    frames = np.stack(frames, axis=0)[(..., *CROPS)]\n",
    "\n",
    "    with Parallel(n_jobs=NCPUS, verbose=1) as par:\n",
    "        par(delayed(process)(frame, label, output, zfill_val) for label, frame in enumerate(frames))"
   ]
  }
 ],
 "metadata": {
  "kernelspec": {
   "display_name": "Python 3",
   "language": "python",
   "name": "python3"
  },
  "language_info": {
   "codemirror_mode": {
    "name": "ipython",
    "version": 3
   },
   "file_extension": ".py",
   "mimetype": "text/x-python",
   "name": "python",
   "nbconvert_exporter": "python",
   "pygments_lexer": "ipython3",
   "version": "3.7.6"
  }
 },
 "nbformat": 4,
 "nbformat_minor": 4
}
